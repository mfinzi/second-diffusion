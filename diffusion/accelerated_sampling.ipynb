{
 "cells": [
  {
   "cell_type": "code",
   "execution_count": 1,
   "metadata": {},
   "outputs": [],
   "source": [
    "%load_ext autoreload\n",
    "%autoreload 2\n",
    "%matplotlib inline\n",
    "import os\n",
    "os.environ[\"CUDA_DEVICE_ORDER\"]=\"PCI_BUS_ID\"   # see issue #152\n",
    "os.environ[\"CUDA_VISIBLE_DEVICES\"]=\"1\""
   ]
  },
  {
   "cell_type": "code",
   "execution_count": 2,
   "metadata": {},
   "outputs": [
    {
     "name": "stderr",
     "output_type": "stream",
     "text": [
      "/home/marc_f/anaconda3/envs/sjc2/lib/python3.10/site-packages/flax/struct.py:132: FutureWarning: jax.tree_util.register_keypaths is deprecated, and will be removed in a future release. Please use `register_pytree_with_keys()` instead.\n",
      "  jax.tree_util.register_keypaths(data_clz, keypaths)\n",
      "/home/marc_f/anaconda3/envs/sjc2/lib/python3.10/site-packages/flax/struct.py:132: FutureWarning: jax.tree_util.register_keypaths is deprecated, and will be removed in a future release. Please use `register_pytree_with_keys()` instead.\n",
      "  jax.tree_util.register_keypaths(data_clz, keypaths)\n"
     ]
    }
   ],
   "source": [
    "import ddpm"
   ]
  },
  {
   "cell_type": "code",
   "execution_count": 3,
   "metadata": {},
   "outputs": [
    {
     "name": "stderr",
     "output_type": "stream",
     "text": [
      "/home/marc_f/anaconda3/envs/sjc2/lib/python3.10/site-packages/tqdm/auto.py:21: TqdmWarning: IProgress not found. Please update jupyter and ipywidgets. See https://ipywidgets.readthedocs.io/en/stable/user_install.html\n",
      "  from .autonotebook import tqdm as notebook_tqdm\n"
     ]
    }
   ],
   "source": [
    "import math\n",
    "from collections.abc import Callable\n",
    "from typing import Optional, Union\n",
    "import functools as ft\n",
    "\n",
    "import numpy as np\n",
    "import matplotlib.pyplot as plt\n",
    "\n",
    "import jax\n",
    "import jax.numpy as jnp\n",
    "import jax.random as jr\n",
    "import jax.tree_util as jtu\n",
    "import optax\n",
    "from jaxtyping import Key, Array, Float32, jaxtyped\n",
    "import equinox as eqx\n",
    "import einops as ein\n",
    "import diffrax as dfx\n",
    "import flax\n",
    "\n",
    "TESTING = True\n",
    "RETRAIN_MODEL = True\n",
    "SEED = 42\n",
    "key = jr.PRNGKey(SEED)\n",
    "\n",
    "# import torch\n",
    "# import torch.nn as nn\n",
    "# import torch.nn.functional as F\n",
    "# import torch.optim as optim\n",
    "# import torchvision as tv\n",
    "\n",
    "import cola\n",
    "# from IPython.display import display, clear_output\n",
    "from IPython import display\n",
    "# torch.manual_seed(3)\n",
    "# dev = torch.device(\"cuda\") if torch.cuda.is_available() else torch.device(\"cpu\")"
   ]
  },
  {
   "cell_type": "code",
   "execution_count": 4,
   "metadata": {},
   "outputs": [],
   "source": [
    "from configs import get_config\n",
    "from sde_lib import VPSDE\n",
    "import mutils\n",
    "from sampling import EulerMaruyamaPredictor, LangevinCorrector, get_pc_sampler\n",
    "import datasets\n",
    "import utils"
   ]
  },
  {
   "cell_type": "code",
   "execution_count": 5,
   "metadata": {},
   "outputs": [],
   "source": [
    "import os\n",
    "import gdown\n",
    "\n",
    "if not os.path.exists('checkpoint_26'):\n",
    "    # Replace 'FILE_ID' with the actual file ID\n",
    "    file_id = '1VZikdcPE2nn8K_da9UUG_JPIzNIRI4yE'\n",
    "\n",
    "    # Specify the output file name\n",
    "    output_file = 'checkpoint_26'\n",
    "\n",
    "    # Download the file\n",
    "    gdown.download(f'https://drive.google.com/uc?id={file_id}', output_file, quiet=False)\n",
    "\n",
    "if not os.path.exists('checkpoint_199'):\n",
    "    # Replace 'FILE_ID' with the actual file ID\n",
    "    file_id = '15VofLMDaxqUKnKwLDzvbDbCpCBm4nUOV'\n",
    "\n",
    "    # Specify the output file name\n",
    "    output_file = 'checkpoint_199'\n",
    "\n",
    "    # Download the file\n",
    "    gdown.download(f'https://drive.google.com/uc?id={file_id}', output_file, quiet=False)"
   ]
  },
  {
   "cell_type": "code",
   "execution_count": 6,
   "metadata": {},
   "outputs": [],
   "source": [
    "config = get_config()\n",
    "sde = VPSDE(beta_min=config.model.beta_min, beta_max=config.model.beta_max, N=config.model.num_scales)\n",
    "sampling_eps = 1e-3\n",
    "\n",
    "batch_size =   64\n",
    "local_batch_size = batch_size // jax.local_device_count()\n",
    "config.training.batch_size = batch_size\n",
    "config.eval.batch_size = batch_size\n",
    "\n",
    "random_seed = 0\n",
    "rng = jax.random.PRNGKey(random_seed)\n",
    "rng, run_rng = jax.random.split(rng)\n",
    "rng, model_rng = jax.random.split(rng)\n",
    "score_model, init_model_state, initial_params = mutils.init_model(run_rng, config)\n",
    "# optimizer = losses_lib.get_optimizer(config).create(initial_params)\n",
    "optimizer = None\n",
    "\n",
    "state = mutils.State(step=0, optimizer=optimizer, lr=config.optim.lr,\n",
    "                      model_state=init_model_state,\n",
    "                      ema_rate=config.model.ema_rate,\n",
    "                      params_ema=initial_params,\n",
    "                      rng=rng)  # pytype: disable=wrong-keyword-args\n",
    "sigmas = mutils.get_sigmas(config)\n",
    "scaler = datasets.get_data_scaler(config)\n",
    "inverse_scaler = datasets.get_data_inverse_scaler(config)\n",
    "state = utils.load_training_state(\"checkpoint_26\", state)"
   ]
  },
  {
   "cell_type": "code",
   "execution_count": 7,
   "metadata": {},
   "outputs": [],
   "source": [
    "def reshape_tree(tree):\n",
    "    reshaped_tree = {}\n",
    "    for k, v in tree.items():\n",
    "        if isinstance(v, dict) or isinstance(v, flax.core.FrozenDict):\n",
    "            if 'GroupNorm' in k or 'bn' in k:\n",
    "                reshaped_tree[k] =  v.copy({\"scale\": v[\"scale\"].reshape(-1), \"bias\": v[\"bias\"].reshape(-1)})\n",
    "            else:\n",
    "                reshaped_tree[k] = reshape_tree(v)\n",
    "        else:\n",
    "            reshaped_tree[k] = v\n",
    "    return reshaped_tree"
   ]
  },
  {
   "cell_type": "code",
   "execution_count": 8,
   "metadata": {},
   "outputs": [],
   "source": [
    "new_params = reshape_tree(state.params_ema)\n",
    "# jtu.tree_map(lambda x: x.shape, new_params)\n",
    "new_state = state.replace(params_ema=new_params)\n",
    "random_seed = 0\n",
    "rng = jax.random.PRNGKey(random_seed)\n",
    "img_size = config.data.image_size\n",
    "channels = config.data.num_channels\n",
    "shape = (local_batch_size, img_size, img_size, channels)"
   ]
  },
  {
   "cell_type": "code",
   "execution_count": 9,
   "metadata": {},
   "outputs": [],
   "source": [
    "rng = jax.random.PRNGKey(random_seed)\n",
    "\n",
    "rng, step_rng = jax.random.split(rng)\n",
    "x = sde.prior_sampling(step_rng, shape)\n",
    "timesteps = jnp.linspace(sde.T, 1e-3, sde.N)\n",
    "score_fn = mutils.get_score_fn(sde, score_model, new_params, state.model_state, train=False, continuous=config.training.continuous)\n",
    "rsde = sde.reverse(score_fn, False)\n",
    "\n",
    "i = 0\n",
    "\n",
    "# @jax.jit\n",
    "# def back_step(x, t, dt, rng):\n",
    "#     rng, step_rng = jax.random.split(rng)\n",
    "#     z = jr.normal(rng, shape)\n",
    "#     drift, diffusion = rsde.sde(x, t)\n",
    "#     x_mean = x + drift * dt\n",
    "#     x = x_mean + utils.batch_mul(diffusion, jnp.sqrt(-dt) * z)\n",
    "#     return x, x_mean, rng\n",
    "\n",
    "\n",
    "# for i in range(sde.N):\n",
    "#     t = timesteps[i]\n",
    "#     vec_t = jnp.ones(shape[0]) * t\n",
    "#     dt = -1.0 / sde.N\n",
    "#     x, x_mean, rng = back_step(x, vec_t, dt, rng)\n",
    "#     print(f\"{i} / {sde.N}\", end=\"\\r\")"
   ]
  },
  {
   "cell_type": "code",
   "execution_count": 10,
   "metadata": {},
   "outputs": [],
   "source": [
    "# plt.imshow(ein.rearrange(inverse_scaler(x_mean), '(b1 b2) h w c -> (b1 h) (b2 w) c', b1=8))"
   ]
  },
  {
   "cell_type": "code",
   "execution_count": 11,
   "metadata": {},
   "outputs": [],
   "source": [
    "\n",
    "@jax.jit\n",
    "def annealed_langevin(x, t, dt, rng):\n",
    "    timestep = (t * (sde.N - 1) / sde.T).astype(jnp.int32)\n",
    "    alpha = sde.alphas[timestep]\n",
    "\n",
    "    std = sde.marginal_prob(x, t)[1]\n",
    "\n",
    "    def loop_body(step, val):\n",
    "        rng, x, x_mean = val\n",
    "        grad = score_fn(x, t)\n",
    "        rng, step_rng = jax.random.split(rng)\n",
    "        noise = jax.random.normal(step_rng, x.shape)\n",
    "        step_size = (target_snr * std) ** 2 * 2 * alpha\n",
    "        x_mean = x + utils.batch_mul(step_size, grad)\n",
    "        x = x_mean + utils.batch_mul(noise, jnp.sqrt(step_size * 2))\n",
    "        return rng, x, x_mean\n",
    "\n",
    "    rng, x, x_mean = jax.lax.fori_loop(0, 10, loop_body, (rng, x, x))\n",
    "    return x, x_mean, rng"
   ]
  },
  {
   "cell_type": "code",
   "execution_count": null,
   "metadata": {},
   "outputs": [],
   "source": []
  },
  {
   "cell_type": "code",
   "execution_count": 12,
   "metadata": {},
   "outputs": [
    {
     "data": {
      "image/png": "[encoded data removed]",
      "text/plain": [
       "<Figure size 600x600 with 1 Axes>"
      ]
     },
     "metadata": {},
     "output_type": "display_data"
    },
    {
     "name": "stdout",
     "output_type": "stream",
     "text": [
      "Step 4999, t 0.004\r"
     ]
    },
    {
     "data": {
      "image/png": "[encoded data removed]",
      "text/plain": [
       "<Figure size 600x600 with 1 Axes>"
      ]
     },
     "metadata": {},
     "output_type": "display_data"
    }
   ],
   "source": [
    "target_snr = 0.16\n",
    "n_steps = 5000\n",
    "\n",
    "\n",
    "\n",
    "@jax.jit\n",
    "def make_step(x_pi, t, key):\n",
    "    # Calculate step size\n",
    "    alpha = sde.alphas[t]\n",
    "    std = sde.marginal_prob(x_pi[None,...], jnp.ones(1)*t/(sde.N-1))[1]\n",
    "    step_size = (target_snr * std) ** 2 * 2 * alpha\n",
    "\n",
    "    # Calculate score\n",
    "    score = score_fn(x_pi[None,...], jnp.ones(1)*t/(sde.N-1))\n",
    "\n",
    "    # Noise for Langevin\n",
    "    key, eps_key = jr.split(key)\n",
    "    noise = jr.normal(eps_key, x_pi.shape)[None,...]\n",
    "\n",
    "    # Langevin update\n",
    "    x_mean = x_pi + utils.batch_mul(step_size, score)\n",
    "    x_pi = x_mean + utils.batch_mul(noise, jnp.sqrt(step_size * 2))\n",
    "    x_pi = x_pi[0]\n",
    "\n",
    "    loss = None\n",
    "    key = jr.split(key)[0]\n",
    "    return x_pi, key\n",
    "\n",
    "\n",
    "key = jr.PRNGKey(101)\n",
    "x_pi = jr.normal(key, (32, 32, 3))\n",
    "# Setup the plot outside of the loop\n",
    "fig, ax1 = plt.subplots(1, 1, figsize=(6, 6))\n",
    "image1 = ax1.imshow(inverse_scaler(x_pi))\n",
    "\n",
    "display.clear_output(wait=True)\n",
    "image1.set_data(inverse_scaler(x_pi))\n",
    "display.display(plt.gcf())\n",
    "\n",
    "\n",
    "\n",
    "for step in range(n_steps):\n",
    "    # Setup\n",
    "    # key, t_key = jr.split(key)\n",
    "    # t = jr.randint(t_key, (paas,), 30, sde.N-10)\n",
    "    t = int((2*jax.nn.sigmoid(-6*step/n_steps))*sde.N)\n",
    "    # t = jnp.ones((paas,), dtype=jnp.int32) * int(((n_steps-step)/n_steps)*sde.N)\n",
    "\n",
    "    x_pi, key = make_step(x_pi, t, key)\n",
    "    # print(f\"Step {step}, t {t[0]/sde.N:.3f}, Loss {loss:.3f}\", end=\"\\r\")\n",
    "    print(f\"Step {step}, t {t/sde.N:.3f}\", end=\"\\r\")\n",
    "    if step % 100 == 0 and step:\n",
    "        # plt.imshow(inverse_scaler(jax.vmap(siren)(grid).reshape(img_size, img_size, 3)))\n",
    "        display.clear_output(wait=True)\n",
    "        image1.set_data(inverse_scaler(x_pi))\n",
    "        display.display(plt.gcf())"
   ]
  },
  {
   "cell_type": "code",
   "execution_count": 13,
   "metadata": {},
   "outputs": [],
   "source": [
    "class NystromPrecond(cola.ops.LinearOperator):\n",
    "    \"\"\"\n",
    "    Constructs the Nystrom Preconditioner of a linear operator A.\n",
    "\n",
    "    Args:\n",
    "        A (LinearOperator): A positive definite linear operator of size (n, n).\n",
    "        rank (int): The rank of the Nystrom approximation.\n",
    "        mu (float): Regularization of the linear system (A + mu)x = b.\n",
    "         Usually, this preconditioner is used to solve linear systems and\n",
    "         therefore its construction accomodates for the regularization.\n",
    "        eps (float): Shift used when constructing the preconditioner.\n",
    "        adjust_mu (bool, optional): Whether to adjust the regularization with the\n",
    "         estimatted dominant eigenvalue.\n",
    "\n",
    "    Returns:\n",
    "        LinearOperator: Nystrom Preconditioner.\n",
    "    \"\"\"\n",
    "    def __init__(self, A, rank, mu=1e-7, eps=1e-8, adjust_mu=True, key=42):\n",
    "        super().__init__(dtype=A.dtype, shape=A.shape)\n",
    "        Omega = self.xnp.randn(*(A.shape[0], rank), dtype=A.dtype, device=A.device, key=key)\n",
    "        self._create_approx(A=A, Omega=Omega, mu=mu, eps=eps, adjust_mu=adjust_mu)\n",
    "\n",
    "    def _create_approx(self, A, Omega, mu, eps, adjust_mu):\n",
    "        xnp = self.xnp\n",
    "        self.Lambda, self.U = get_nys_approx(A=A, Omega=Omega, eps=eps)\n",
    "        self.adjusted_mu = amu = mu * xnp.max(self.Lambda, axis=0) if adjust_mu else mu\n",
    "        # Num and denom help for defining inverse and sqrt\n",
    "        self.subspace_num = xnp.min(self.Lambda) + amu\n",
    "        self.subspace_denom = self.Lambda + amu\n",
    "        self.subspace_scaling = self.subspace_num / self.subspace_denom - 1\n",
    "        self.subspace_scaling = self.subspace_scaling[:, None]\n",
    "        self.preconditioned_eigmax = xnp.min(self.Lambda) + amu\n",
    "        self.preconditioned_eigmin = amu\n",
    "\n",
    "    def _matmat(self, V):\n",
    "        subspace_term = self.U @ (self.subspace_scaling * (self.U.T @ V))\n",
    "        return subspace_term + V\n",
    "\n",
    "\n",
    "def get_nys_approx(A, Omega, eps):\n",
    "    xnp = A.xnp\n",
    "    Omega, _ = xnp.qr(Omega, full_matrices=False)\n",
    "    Y = A @ Omega\n",
    "    nu = eps * xnp.norm(Y, ord=\"fro\")\n",
    "    Y += nu * Omega\n",
    "    C = xnp.cholesky(Omega.T @ Y)\n",
    "    aux = xnp.solvetri(C, Y.T, lower=True)\n",
    "    B = aux.T  # shape (params, rank)\n",
    "    U, Sigma, _ = xnp.svd(B, full_matrices=False)\n",
    "    Lambda = xnp.clip(Sigma**2.0 - nu, a_min=0.0)\n",
    "    return Lambda, U"
   ]
  },
  {
   "cell_type": "code",
   "execution_count": 14,
   "metadata": {},
   "outputs": [],
   "source": [
    "def flat_score_fn(x, t):\n",
    "    x_img = x.reshape(1,32,32,3)\n",
    "    score = score_fn(x_img, t*jnp.ones(1))\n",
    "    return score.reshape(-1)"
   ]
  },
  {
   "cell_type": "code",
   "execution_count": 42,
   "metadata": {},
   "outputs": [],
   "source": [
    "target_snr = 0.16\n",
    "n_steps = 2000\n",
    "from functools import partial\n",
    "import cola\n",
    "from cola import Auto, CG, Lanczos, PowerIteration\n",
    "\n",
    "\n",
    "def score_hessian(x,t):\n",
    "    H1 = cola.ops.Jacobian(partial(flat_score_fn,t=t), x)\n",
    "    return cola.PSD(-(H1.T+H1)/2)\n",
    "\n",
    "# @jax.jit\n",
    "def get_matrices(x,t, key):\n",
    "    H = score_hessian(x.reshape(-1),t)\n",
    "    P = cola.ops.I_like(H)#NystromPrecond(H, rank=30, mu=1e-1, key=key)\n",
    "    eps = 1e-2*cola.eigmax(H, alg=PowerIteration(max_iter=5))#P.adjusted_mu\n",
    "    \n",
    "    reg_H = cola.PSD(H + eps*cola.ops.I_like(H))\n",
    "    #U = cola.lazify(P.U)\n",
    "    #D2 = cola.ops.Diagonal(jnp.sqrt(1+P.subspace_scaling[:,0])-1)\n",
    "    sqrtP = P#U @ D2 @ U.T + cola.ops.I_like(P)\n",
    "    #D3 = cola.ops.Diagonal((1+P.subspace_scaling[:,0])**0.25-1)\n",
    "    P_quart = cola.ops.I_like(P)#U @ D3 @ U.T + cola.ops.I_like(P)\n",
    "    inv_H = cola.linalg.inv(reg_H, alg=CG(max_iters=10, P=P))\n",
    "    #A = cola.PSD(sqrtP @ reg_H @ sqrtP)\n",
    "    #isqrt_H = P_quart @ cola.linalg.isqrt(A, alg=Lanczos(max_iters=10)) @ P_quart\n",
    "    isqrt_H = cola.linalg.isqrt(reg_H, alg=Lanczos(max_iters=10))\n",
    "    return inv_H, isqrt_H"
   ]
  },
  {
   "cell_type": "code",
   "execution_count": 43,
   "metadata": {},
   "outputs": [
    {
     "data": {
      "image/png": "[encoded data removed]",
      "text/plain": [
       "<Figure size 600x600 with 1 Axes>"
      ]
     },
     "metadata": {},
     "output_type": "display_data"
    },
    {
     "name": "stdout",
     "output_type": "stream",
     "text": [
      "Step 1999, t 0.004\r"
     ]
    },
    {
     "data": {
      "image/png": "[encoded data removed]",
      "text/plain": [
       "<Figure size 600x600 with 1 Axes>"
      ]
     },
     "metadata": {},
     "output_type": "display_data"
    }
   ],
   "source": [
    "\n",
    "\n",
    "\n",
    "@jax.jit\n",
    "def make_step(x_pi, t, key):\n",
    "    # Calculate step size\n",
    "    alpha = sde.alphas[t]\n",
    "    std = sde.marginal_prob(x_pi[None,...], jnp.ones(1)*t/(sde.N-1))[1]\n",
    "    step_size = (target_snr * std) ** 2 * 2 * alpha\n",
    "\n",
    "    # Calculate score\n",
    "    score = score_fn(x_pi[None,...], jnp.ones(1)*t/(sde.N-1))\n",
    "\n",
    "    # Noise for Langevin\n",
    "    key, eps_key = jr.split(key)\n",
    "    noise = jr.normal(eps_key, x_pi.shape)[None,...]\n",
    "\n",
    "    key, pkey = jr.split(key)\n",
    "    inv_H, isqrt_H = get_matrices(x_pi, t/(sde.N-1), pkey)\n",
    "    # Langevin update\n",
    "    x_mean = x_pi + utils.batch_mul(step_size, (inv_H@score.reshape(-1)).reshape(score.shape))\n",
    "    x_pi = x_mean + utils.batch_mul((isqrt_H@noise.reshape(-1)).reshape(noise.shape), jnp.sqrt(step_size * 2))\n",
    "    x_pi = x_pi[0]\n",
    "    return x_pi, key\n",
    "\n",
    "# Setup the plot outside of the loop\n",
    "fig, ax1 = plt.subplots(1, 1, figsize=(6, 6))\n",
    "image1 = ax1.imshow(inverse_scaler(x_pi))\n",
    "\n",
    "key = jr.PRNGKey(101)\n",
    "x_pi = jr.normal(key, (32, 32, 3))\n",
    "\n",
    "display.clear_output(wait=True)\n",
    "image1.set_data(inverse_scaler(x_pi))\n",
    "display.display(plt.gcf())\n",
    "\n",
    "\n",
    "\n",
    "for step in range(n_steps):\n",
    "\n",
    "    # Setup\n",
    "    # key, t_key = jr.split(key)\n",
    "    # t = jr.randint(t_key, (paas,), 30, sde.N-10)\n",
    "    t = int((2*jax.nn.sigmoid(-6*step/n_steps))*sde.N)\n",
    "    # t = jnp.ones((paas,), dtype=jnp.int32) * int(((n_steps-step)/n_steps)*sde.N)\n",
    "\n",
    "    x_pi, key = make_step(x_pi, t, key)\n",
    "    # print(f\"Step {step}, t {t[0]/sde.N:.3f}, Loss {loss:.3f}\", end=\"\\r\")\n",
    "    print(f\"Step {step}, t {t/sde.N:.3f}\", end=\"\\r\")\n",
    "    if step % 10 == 0 and step:\n",
    "        # plt.imshow(inverse_scaler(jax.vmap(siren)(grid).reshape(img_size, img_size, 3)))\n",
    "        display.clear_output(wait=True)\n",
    "        image1.set_data(inverse_scaler(x_pi))\n",
    "        display.display(plt.gcf())"
   ]
  },
  {
   "cell_type": "code",
   "execution_count": 35,
   "metadata": {},
   "outputs": [],
   "source": [
    "key = jr.PRNGKey(101)\n",
    "x = jr.normal(key, (32, 32, 3))\n",
    "\n",
    "invH, isqrtH, P, H = get_matrices(x, 1-10/sde.N, key)"
   ]
  },
  {
   "cell_type": "code",
   "execution_count": 31,
   "metadata": {},
   "outputs": [
    {
     "data": {
      "text/plain": [
       "[<matplotlib.lines.Line2D at 0x7f174c8395d0>]"
      ]
     },
     "execution_count": 31,
     "metadata": {},
     "output_type": "execute_result"
    },
    {
     "data": {
      "image/png": "[encoded data removed]",
      "text/plain": [
       "<Figure size 640x480 with 1 Axes>"
      ]
     },
     "metadata": {},
     "output_type": "display_data"
    }
   ],
   "source": [
    "Hdense = P.to_dense()\n",
    "es = jnp.linalg.eigvalsh(Hdense)\n",
    "plt.plot(es)"
   ]
  },
  {
   "cell_type": "code",
   "execution_count": 33,
   "metadata": {},
   "outputs": [
    {
     "data": {
      "text/plain": [
       "Array([nan, nan, nan, nan, nan, nan, nan, nan, nan, nan, nan, nan, nan,\n",
       "       nan, nan, nan, nan, nan, nan, nan, nan, nan, nan, nan, nan, nan,\n",
       "       nan, nan, nan, nan], dtype=float32)"
      ]
     },
     "execution_count": 33,
     "metadata": {},
     "output_type": "execute_result"
    }
   ],
   "source": [
    "P.Lambda"
   ]
  },
  {
   "cell_type": "code",
   "execution_count": 27,
   "metadata": {},
   "outputs": [],
   "source": [
    "key = jr.PRNGKey(101)\n",
    "x = jr.normal(key, (32, 32, 3))\n",
    "\n",
    "invH, isqrtH = get_matrices(x, 1-10/sde.N, key)"
   ]
  },
  {
   "cell_type": "code",
   "execution_count": null,
   "metadata": {},
   "outputs": [],
   "source": [
    "invH"
   ]
  },
  {
   "cell_type": "code",
   "execution_count": 25,
   "metadata": {},
   "outputs": [],
   "source": [
    "x = jr.normal(key, (32, 32, 3))\n",
    "e,v = cola.eig(score_hessian(x.reshape(-1), 1-10/sde.N),k=10, which='SM', alg=Lanczos(max_iters=30))"
   ]
  },
  {
   "cell_type": "code",
   "execution_count": 26,
   "metadata": {},
   "outputs": [
    {
     "data": {
      "text/plain": [
       "Array([0.96018845, 0.97582316, 0.9786645 , 0.98018295, 0.9819377 ,\n",
       "       0.9826432 , 0.98349875, 0.9841264 , 0.98638034, 0.98889446],      dtype=float32)"
      ]
     },
     "execution_count": 26,
     "metadata": {},
     "output_type": "execute_result"
    }
   ],
   "source": [
    "e"
   ]
  },
  {
   "cell_type": "code",
   "execution_count": null,
   "metadata": {},
   "outputs": [],
   "source": []
  }
 ],
 "metadata": {
  "kernelspec": {
   "display_name": "playground",
   "language": "python",
   "name": "python3"
  },
  "language_info": {
   "codemirror_mode": {
    "name": "ipython",
    "version": 3
   },
   "file_extension": ".py",
   "mimetype": "text/x-python",
   "name": "python",
   "nbconvert_exporter": "python",
   "pygments_lexer": "ipython3",
   "version": "3.10.13"
  },
  "orig_nbformat": 4
 },
 "nbformat": 4,
 "nbformat_minor": 2
}
