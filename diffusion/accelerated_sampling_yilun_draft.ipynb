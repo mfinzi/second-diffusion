{
 "cells": [
  {
   "cell_type": "code",
   "execution_count": 1,
   "metadata": {},
   "outputs": [],
   "source": [
    "%load_ext autoreload\n",
    "%autoreload 2\n",
    "%matplotlib inline\n",
    "import os\n",
    "os.environ[\"CUDA_DEVICE_ORDER\"]=\"PCI_BUS_ID\"   # see issue #152\n",
    "os.environ[\"CUDA_VISIBLE_DEVICES\"]=\"1\""
   ]
  },
  {
   "cell_type": "code",
   "execution_count": 2,
   "metadata": {},
   "outputs": [
    {
     "name": "stderr",
     "output_type": "stream",
     "text": [
      "/ext3/miniconda3/lib/python3.10/site-packages/flax/struct.py:132: FutureWarning: jax.tree_util.register_keypaths is deprecated, and will be removed in a future release. Please use `register_pytree_with_keys()` instead.\n",
      "  jax.tree_util.register_keypaths(data_clz, keypaths)\n",
      "/ext3/miniconda3/lib/python3.10/site-packages/flax/struct.py:132: FutureWarning: jax.tree_util.register_keypaths is deprecated, and will be removed in a future release. Please use `register_pytree_with_keys()` instead.\n",
      "  jax.tree_util.register_keypaths(data_clz, keypaths)\n"
     ]
    }
   ],
   "source": [
    "import ddpm"
   ]
  },
  {
   "cell_type": "code",
   "execution_count": 3,
   "metadata": {},
   "outputs": [
    {
     "name": "stderr",
     "output_type": "stream",
     "text": [
      "2023-11-13 18:08:27.393459: E external/xla/xla/stream_executor/cuda/cuda_driver.cc:268] failed call to cuInit: CUDA_ERROR_NO_DEVICE: no CUDA-capable device is detected\n",
      "No GPU/TPU found, falling back to CPU. (Set TF_CPP_MIN_LOG_LEVEL=0 and rerun for more info.)\n",
      "/ext3/miniconda3/lib/python3.10/site-packages/tqdm/auto.py:21: TqdmWarning: IProgress not found. Please update jupyter and ipywidgets. See https://ipywidgets.readthedocs.io/en/stable/user_install.html\n",
      "  from .autonotebook import tqdm as notebook_tqdm\n"
     ]
    }
   ],
   "source": [
    "import math\n",
    "from collections.abc import Callable\n",
    "from typing import Optional, Union\n",
    "import functools as ft\n",
    "\n",
    "import numpy as np\n",
    "import matplotlib.pyplot as plt\n",
    "\n",
    "import jax\n",
    "import jax.numpy as jnp\n",
    "import jax.random as jr\n",
    "import jax.tree_util as jtu\n",
    "import optax\n",
    "from jaxtyping import Key, Array, Float32, jaxtyped\n",
    "import equinox as eqx\n",
    "import einops as ein\n",
    "import diffrax as dfx\n",
    "import flax\n",
    "\n",
    "TESTING = True\n",
    "RETRAIN_MODEL = True\n",
    "SEED = 42\n",
    "key = jr.PRNGKey(SEED)\n",
    "\n",
    "# import torch\n",
    "# import torch.nn as nn\n",
    "# import torch.nn.functional as F\n",
    "# import torch.optim as optim\n",
    "# import torchvision as tv\n",
    "\n",
    "import cola\n",
    "# from IPython.display import display, clear_output\n",
    "from IPython import display\n",
    "# torch.manual_seed(3)\n",
    "# dev = torch.device(\"cuda\") if torch.cuda.is_available() else torch.device(\"cpu\")"
   ]
  },
  {
   "cell_type": "code",
   "execution_count": 4,
   "metadata": {},
   "outputs": [],
   "source": [
    "from configs import get_config\n",
    "from sde_lib import VPSDE\n",
    "import mutils\n",
    "from sampling import EulerMaruyamaPredictor, LangevinCorrector, get_pc_sampler\n",
    "import datasets\n",
    "import utils"
   ]
  },
  {
   "cell_type": "code",
   "execution_count": 5,
   "metadata": {},
   "outputs": [],
   "source": [
    "import os\n",
    "import gdown\n",
    "\n",
    "if not os.path.exists('checkpoint_26'):\n",
    "    # Replace 'FILE_ID' with the actual file ID\n",
    "    file_id = '1VZikdcPE2nn8K_da9UUG_JPIzNIRI4yE'\n",
    "\n",
    "    # Specify the output file name\n",
    "    output_file = 'checkpoint_26'\n",
    "\n",
    "    # Download the file\n",
    "    gdown.download(f'https://drive.google.com/uc?id={file_id}', output_file, quiet=False)\n",
    "\n",
    "if not os.path.exists('checkpoint_199'):\n",
    "    # Replace 'FILE_ID' with the actual file ID\n",
    "    file_id = '15VofLMDaxqUKnKwLDzvbDbCpCBm4nUOV'\n",
    "\n",
    "    # Specify the output file name\n",
    "    output_file = 'checkpoint_199'\n",
    "\n",
    "    # Download the file\n",
    "    gdown.download(f'https://drive.google.com/uc?id={file_id}', output_file, quiet=False)"
   ]
  },
  {
   "cell_type": "code",
   "execution_count": 6,
   "metadata": {},
   "outputs": [],
   "source": [
    "config = get_config()\n",
    "sde = VPSDE(beta_min=config.model.beta_min, beta_max=config.model.beta_max, N=config.model.num_scales)\n",
    "sampling_eps = 1e-3\n",
    "\n",
    "batch_size =   64\n",
    "local_batch_size = batch_size // jax.local_device_count()\n",
    "config.training.batch_size = batch_size\n",
    "config.eval.batch_size = batch_size\n",
    "\n",
    "random_seed = 0\n",
    "rng = jax.random.PRNGKey(random_seed)\n",
    "rng, run_rng = jax.random.split(rng)\n",
    "rng, model_rng = jax.random.split(rng)\n",
    "score_model, init_model_state, initial_params = mutils.init_model(run_rng, config)\n",
    "# optimizer = losses_lib.get_optimizer(config).create(initial_params)\n",
    "optimizer = None\n",
    "\n",
    "state = mutils.State(step=0, optimizer=optimizer, lr=config.optim.lr,\n",
    "                      model_state=init_model_state,\n",
    "                      ema_rate=config.model.ema_rate,\n",
    "                      params_ema=initial_params,\n",
    "                      rng=rng)  # pytype: disable=wrong-keyword-args\n",
    "sigmas = mutils.get_sigmas(config)\n",
    "scaler = datasets.get_data_scaler(config)\n",
    "inverse_scaler = datasets.get_data_inverse_scaler(config)\n",
    "state = utils.load_training_state(\"checkpoint_26\", state)"
   ]
  },
  {
   "cell_type": "code",
   "execution_count": 7,
   "metadata": {},
   "outputs": [],
   "source": [
    "def reshape_tree(tree):\n",
    "    reshaped_tree = {}\n",
    "    for k, v in tree.items():\n",
    "        if isinstance(v, dict) or isinstance(v, flax.core.FrozenDict):\n",
    "            if 'GroupNorm' in k or 'bn' in k:\n",
    "                reshaped_tree[k] =  v.copy({\"scale\": v[\"scale\"].reshape(-1), \"bias\": v[\"bias\"].reshape(-1)})\n",
    "            else:\n",
    "                reshaped_tree[k] = reshape_tree(v)\n",
    "        else:\n",
    "            reshaped_tree[k] = v\n",
    "    return reshaped_tree"
   ]
  },
  {
   "cell_type": "code",
   "execution_count": 8,
   "metadata": {},
   "outputs": [],
   "source": [
    "new_params = reshape_tree(state.params_ema)\n",
    "# jtu.tree_map(lambda x: x.shape, new_params)\n",
    "new_state = state.replace(params_ema=new_params)\n",
    "random_seed = 0\n",
    "rng = jax.random.PRNGKey(random_seed)\n",
    "img_size = config.data.image_size\n",
    "channels = config.data.num_channels\n",
    "shape = (local_batch_size, img_size, img_size, channels)"
   ]
  },
  {
   "cell_type": "code",
   "execution_count": 9,
   "metadata": {},
   "outputs": [],
   "source": [
    "rng = jax.random.PRNGKey(random_seed)\n",
    "\n",
    "rng, step_rng = jax.random.split(rng)\n",
    "x = sde.prior_sampling(step_rng, shape)\n",
    "timesteps = jnp.linspace(sde.T, 1e-3, sde.N)\n",
    "score_fn = mutils.get_score_fn(sde, score_model, new_params, state.model_state, train=False, continuous=config.training.continuous)\n",
    "rsde = sde.reverse(score_fn, False)\n",
    "\n",
    "i = 0\n",
    "\n",
    "# @jax.jit\n",
    "# def back_step(x, t, dt, rng):\n",
    "#     rng, step_rng = jax.random.split(rng)\n",
    "#     z = jr.normal(rng, shape)\n",
    "#     drift, diffusion = rsde.sde(x, t)\n",
    "#     x_mean = x + drift * dt\n",
    "#     x = x_mean + utils.batch_mul(diffusion, jnp.sqrt(-dt) * z)\n",
    "#     return x, x_mean, rng\n",
    "\n",
    "\n",
    "# for i in range(sde.N):\n",
    "#     t = timesteps[i]\n",
    "#     vec_t = jnp.ones(shape[0]) * t\n",
    "#     dt = -1.0 / sde.N\n",
    "#     x, x_mean, rng = back_step(x, vec_t, dt, rng)\n",
    "#     print(f\"{i} / {sde.N}\", end=\"\\r\")"
   ]
  },
  {
   "cell_type": "code",
   "execution_count": 10,
   "metadata": {},
   "outputs": [],
   "source": [
    "# plt.imshow(ein.rearrange(inverse_scaler(x_mean), '(b1 b2) h w c -> (b1 h) (b2 w) c', b1=8))"
   ]
  },
  {
   "cell_type": "code",
   "execution_count": 11,
   "metadata": {},
   "outputs": [],
   "source": [
    "\n",
    "@jax.jit\n",
    "def annealed_langevin(x, t, dt, rng):\n",
    "    timestep = (t * (sde.N - 1) / sde.T).astype(jnp.int32)\n",
    "    alpha = sde.alphas[timestep]\n",
    "\n",
    "    std = sde.marginal_prob(x, t)[1]\n",
    "\n",
    "    def loop_body(step, val):\n",
    "        rng, x, x_mean = val\n",
    "        grad = score_fn(x, t)\n",
    "        rng, step_rng = jax.random.split(rng)\n",
    "        noise = jax.random.normal(step_rng, x.shape)\n",
    "        step_size = (target_snr * std) ** 2 * 2 * alpha\n",
    "        x_mean = x + utils.batch_mul(step_size, grad)\n",
    "        x = x_mean + utils.batch_mul(noise, jnp.sqrt(step_size * 2))\n",
    "        return rng, x, x_mean\n",
    "\n",
    "    rng, x, x_mean = jax.lax.fori_loop(0, 10, loop_body, (rng, x, x))\n",
    "    return x, x_mean, rng"
   ]
  },
  {
   "cell_type": "code",
   "execution_count": 12,
   "metadata": {},
   "outputs": [
    {
     "name": "stderr",
     "output_type": "stream",
     "text": [
      "WARNING:matplotlib.image:Clipping input data to the valid range for imshow with RGB data ([0..1] for floats or [0..255] for integers).\n"
     ]
    },
    {
     "data": {
      "image/png": "[encoded data removed]",
      "text/plain": [
       "<Figure size 600x600 with 1 Axes>"
      ]
     },
     "metadata": {},
     "output_type": "display_data"
    },
    {
     "data": {
      "image/png": "[encoded data removed]",
      "text/plain": [
       "<Figure size 600x600 with 1 Axes>"
      ]
     },
     "metadata": {},
     "output_type": "display_data"
    }
   ],
   "source": [
    "target_snr = 0.16\n",
    "n_steps = 5000\n",
    "\n",
    "\n",
    "\n",
    "@jax.jit\n",
    "def make_step(x_pi, t, key):\n",
    "    # Calculate step size\n",
    "    alpha = sde.alphas[t]\n",
    "    std = sde.marginal_prob(x_pi[None,...], jnp.ones(1)*t/(sde.N-1))[1]\n",
    "    step_size = (target_snr * std) ** 2 * 2 * alpha\n",
    "    \n",
    "    # Calculate score\n",
    "    score = score_fn(x_pi[None,...], jnp.ones(1)*t/(sde.N-1))\n",
    "\n",
    "    # Noise for Langevin\n",
    "    key, eps_key = jr.split(key)\n",
    "    noise = jr.normal(eps_key, x_pi.shape)[None,...]\n",
    "\n",
    "    # Langevin update\n",
    "    x_mean = x_pi + utils.batch_mul(step_size, score)\n",
    "    x_pi = x_mean + utils.batch_mul(noise, jnp.sqrt(step_size * 2))\n",
    "    x_pi = x_pi[0]\n",
    "\n",
    "    loss = None\n",
    "    key = jr.split(key)[0]\n",
    "    return x_pi, key\n",
    "\n",
    "\n",
    "key = jr.PRNGKey(101)\n",
    "x_pi = jr.normal(key, (32, 32, 3))\n",
    "# Setup the plot outside of the loop\n",
    "fig, ax1 = plt.subplots(1, 1, figsize=(6, 6))\n",
    "image1 = ax1.imshow(inverse_scaler(x_pi))\n",
    "\n",
    "display.clear_output(wait=True)\n",
    "image1.set_data(inverse_scaler(x_pi))\n",
    "display.display(plt.gcf())\n"
   ]
  },
  {
   "cell_type": "code",
   "execution_count": 12,
   "metadata": {},
   "outputs": [
    {
     "data": {
      "image/png": "[encoded data removed]",
      "text/plain": [
       "<Figure size 600x600 with 1 Axes>"
      ]
     },
     "metadata": {},
     "output_type": "display_data"
    },
    {
     "name": "stdout",
     "output_type": "stream",
     "text": [
      "Step 4999, t 0.004\r"
     ]
    },
    {
     "data": {
      "image/png": "[encoded data removed]",
      "text/plain": [
       "<Figure size 600x600 with 1 Axes>"
      ]
     },
     "metadata": {},
     "output_type": "display_data"
    }
   ],
   "source": [
    "for step in range(n_steps):\n",
    "    # Setup\n",
    "    # key, t_key = jr.split(key)\n",
    "    # t = jr.randint(t_key, (paas,), 30, sde.N-10)\n",
    "    t = int((2*jax.nn.sigmoid(-6*step/n_steps))*sde.N)\n",
    "    # t = jnp.ones((paas,), dtype=jnp.int32) * int(((n_steps-step)/n_steps)*sde.N)\n",
    "\n",
    "    x_pi, key = make_step(x_pi, t, key)\n",
    "    # print(f\"Step {step}, t {t[0]/sde.N:.3f}, Loss {loss:.3f}\", end=\"\\r\")\n",
    "    print(f\"Step {step}, t {t/sde.N:.3f}\", end=\"\\r\")\n",
    "    if step % 100 == 0 and step:\n",
    "        # plt.imshow(inverse_scaler(jax.vmap(siren)(grid).reshape(img_size, img_size, 3)))\n",
    "        display.clear_output(wait=True)\n",
    "        image1.set_data(inverse_scaler(x_pi))\n",
    "        display.display(plt.gcf())"
   ]
  },
  {
   "cell_type": "code",
   "execution_count": 13,
   "metadata": {},
   "outputs": [],
   "source": [
    "from IPython.core.debugger import Pdb"
   ]
  },
  {
   "cell_type": "code",
   "execution_count": 14,
   "metadata": {},
   "outputs": [],
   "source": [
    "class NystromPrecond(cola.ops.LinearOperator):\n",
    "    \"\"\"\n",
    "    Constructs the Nystrom Preconditioner of a linear operator A.\n",
    "\n",
    "    Args:\n",
    "        A (LinearOperator): A positive definite linear operator of size (n, n).\n",
    "        rank (int): The rank of the Nystrom approximation.\n",
    "        mu (float): Regularization of the linear system (A + mu)x = b.\n",
    "         Usually, this preconditioner is used to solve linear systems and\n",
    "         therefore its construction accomodates for the regularization.\n",
    "        eps (float): Shift used when constructing the preconditioner.\n",
    "        adjust_mu (bool, optional): Whether to adjust the regularization with the\n",
    "         estimatted dominant eigenvalue.\n",
    "\n",
    "    Returns:\n",
    "        LinearOperator: Nystrom Preconditioner.\n",
    "    \"\"\"\n",
    "    def __init__(self, A, rank, mu=1e-7, eps=1e-8, adjust_mu=True, key=42):\n",
    "        super().__init__(dtype=A.dtype, shape=A.shape)\n",
    "        Omega = self.xnp.randn(*(A.shape[0], rank), dtype=A.dtype, device=A.device, key=key)\n",
    "        self._create_approx(A=A, Omega=Omega, mu=mu, eps=eps, adjust_mu=adjust_mu)\n",
    "\n",
    "    def _create_approx(self, A, Omega, mu, eps, adjust_mu):\n",
    "        xnp = self.xnp\n",
    "        self.Lambda, self.U = get_nys_approx(A=A, Omega=Omega, eps=eps)\n",
    "        self.adjusted_mu = amu = mu * xnp.max(self.Lambda, axis=0) if adjust_mu else mu\n",
    "        # Num and denom help for defining inverse and sqrt\n",
    "        self.subspace_num = xnp.min(self.Lambda) + amu\n",
    "        self.subspace_denom = self.Lambda + amu\n",
    "        self.subspace_scaling = self.subspace_num / self.subspace_denom - 1\n",
    "        self.subspace_scaling = self.subspace_scaling[:, None]\n",
    "        self.preconditioned_eigmax = xnp.min(self.Lambda) + amu\n",
    "        self.preconditioned_eigmin = amu\n",
    "\n",
    "    def _matmat(self, V):\n",
    "        subspace_term = self.U @ (self.subspace_scaling * (self.U.T @ V))\n",
    "        return subspace_term + V\n",
    "\n",
    "\n",
    "def get_nys_approx(A, Omega, eps):\n",
    "    xnp = A.xnp\n",
    "    Omega, _ = xnp.qr(Omega, full_matrices=False)\n",
    "    Y = A @ Omega\n",
    "    nu = eps * xnp.norm(Y, ord=\"fro\")\n",
    "    Y += nu * Omega\n",
    "    C = xnp.cholesky(Omega.T @ Y)\n",
    "    aux = xnp.solvetri(C, Y.T, lower=True)\n",
    "    B = aux.T  # shape (params, rank)\n",
    "    U, Sigma, _ = xnp.svd(B, full_matrices=False)\n",
    "    Lambda = xnp.clip(Sigma**2.0 - nu, a_min=0.0)\n",
    "    return Lambda, U"
   ]
  },
  {
   "cell_type": "code",
   "execution_count": 15,
   "metadata": {},
   "outputs": [],
   "source": [
    "def flat_score_fn(x, t):\n",
    "    x_img = x.reshape(1,32,32,3)\n",
    "    score = score_fn(x_img, t*jnp.ones(1))\n",
    "    return score.reshape(-1)"
   ]
  },
  {
   "cell_type": "code",
   "execution_count": 16,
   "metadata": {},
   "outputs": [],
   "source": [
    "target_snr = 0.16\n",
    "n_steps = 2000\n",
    "from functools import partial\n",
    "import cola\n",
    "from cola import Auto, CG, Lanczos, PowerIteration\n",
    "\n",
    "\n",
    "def score_hessian(x,t):\n",
    "    H1 = cola.ops.Jacobian(partial(flat_score_fn,t=t), x)\n",
    "    return cola.PSD(-(H1.T+H1)/2)\n",
    "\n",
    "# @jax.jit\n",
    "def get_matrices(x,t, key):\n",
    "    H = score_hessian(x.reshape(-1),t)\n",
    "    P = cola.ops.I_like(H)#NystromPrecond(H, rank=30, mu=1e-1, key=key)\n",
    "    eps = 1e-2*cola.eigmax(H, alg=PowerIteration(max_iter=5))#P.adjusted_mu\n",
    "    Pdb().set_trace()\n",
    "\n",
    "    \n",
    "    reg_H = cola.PSD(H + eps*cola.ops.I_like(H))\n",
    "    #U = cola.lazify(P.U)\n",
    "    #D2 = cola.ops.Diagonal(jnp.sqrt(1+P.subspace_scaling[:,0])-1)\n",
    "    sqrtP = P#U @ D2 @ U.T + cola.ops.I_like(P)\n",
    "    #D3 = cola.ops.Diagonal((1+P.subspace_scaling[:,0])**0.25-1)\n",
    "    P_quart = cola.ops.I_like(P)#U @ D3 @ U.T + cola.ops.I_like(P)\n",
    "    inv_H = cola.linalg.inv(reg_H, alg=CG(max_iters=10, P=P))\n",
    "    #A = cola.PSD(sqrtP @ reg_H @ sqrtP)\n",
    "    #isqrt_H = P_quart @ cola.linalg.isqrt(A, alg=Lanczos(max_iters=10)) @ P_quart\n",
    "    isqrt_H = cola.linalg.isqrt(reg_H, alg=Lanczos(max_iters=10))\n",
    "    return inv_H, isqrt_H"
   ]
  },
  {
   "cell_type": "code",
   "execution_count": 17,
   "metadata": {},
   "outputs": [
    {
     "name": "stderr",
     "output_type": "stream",
     "text": [
      "WARNING:matplotlib.image:Clipping input data to the valid range for imshow with RGB data ([0..1] for floats or [0..255] for integers).\n"
     ]
    },
    {
     "data": {
      "image/png": "[encoded data removed]",
      "text/plain": [
       "<Figure size 600x600 with 1 Axes>"
      ]
     },
     "metadata": {},
     "output_type": "display_data"
    },
    {
     "name": "stdout",
     "output_type": "stream",
     "text": [
      "> \u001b[0;32m/state/partition1/job-40110068/ipykernel_2406360/3965836461.py\u001b[0m(43)\u001b[0;36m<module>\u001b[0;34m()\u001b[0m\n",
      "\u001b[0;32m     41 \u001b[0;31m    \u001b[0;31m# key, t_key = jr.split(key)\u001b[0m\u001b[0;34m\u001b[0m\u001b[0;34m\u001b[0m\u001b[0m\n",
      "\u001b[0m\u001b[0;32m     42 \u001b[0;31m    \u001b[0;31m# t = jr.randint(t_key, (paas,), 30, sde.N-10)\u001b[0m\u001b[0;34m\u001b[0m\u001b[0;34m\u001b[0m\u001b[0m\n",
      "\u001b[0m\u001b[0;32m---> 43 \u001b[0;31m    \u001b[0mt\u001b[0m \u001b[0;34m=\u001b[0m \u001b[0mint\u001b[0m\u001b[0;34m(\u001b[0m\u001b[0;34m(\u001b[0m\u001b[0;36m2\u001b[0m\u001b[0;34m*\u001b[0m\u001b[0mjax\u001b[0m\u001b[0;34m.\u001b[0m\u001b[0mnn\u001b[0m\u001b[0;34m.\u001b[0m\u001b[0msigmoid\u001b[0m\u001b[0;34m(\u001b[0m\u001b[0;34m-\u001b[0m\u001b[0;36m6\u001b[0m\u001b[0;34m*\u001b[0m\u001b[0mstep\u001b[0m\u001b[0;34m/\u001b[0m\u001b[0mn_steps\u001b[0m\u001b[0;34m)\u001b[0m\u001b[0;34m)\u001b[0m\u001b[0;34m*\u001b[0m\u001b[0msde\u001b[0m\u001b[0;34m.\u001b[0m\u001b[0mN\u001b[0m\u001b[0;34m)\u001b[0m\u001b[0;34m\u001b[0m\u001b[0;34m\u001b[0m\u001b[0m\n",
      "\u001b[0m\u001b[0;32m     44 \u001b[0;31m    \u001b[0;31m# t = jnp.ones((paas,), dtype=jnp.int32) * int(((n_steps-step)/n_steps)*sde.N)\u001b[0m\u001b[0;34m\u001b[0m\u001b[0;34m\u001b[0m\u001b[0m\n",
      "\u001b[0m\u001b[0;32m     45 \u001b[0;31m\u001b[0;34m\u001b[0m\u001b[0m\n",
      "\u001b[0m\n"
     ]
    },
    {
     "name": "stdin",
     "output_type": "stream",
     "text": [
      "ipdb>  l\n"
     ]
    },
    {
     "name": "stdout",
     "output_type": "stream",
     "text": [
      "\u001b[1;32m     38 \u001b[0m\u001b[0;32mfor\u001b[0m \u001b[0mstep\u001b[0m \u001b[0;32min\u001b[0m \u001b[0mrange\u001b[0m\u001b[0;34m(\u001b[0m\u001b[0mn_steps\u001b[0m\u001b[0;34m)\u001b[0m\u001b[0;34m:\u001b[0m\u001b[0;34m\u001b[0m\u001b[0;34m\u001b[0m\u001b[0m\n",
      "\u001b[1;32m     39 \u001b[0m    \u001b[0mPdb\u001b[0m\u001b[0;34m(\u001b[0m\u001b[0;34m)\u001b[0m\u001b[0;34m.\u001b[0m\u001b[0mset_trace\u001b[0m\u001b[0;34m(\u001b[0m\u001b[0;34m)\u001b[0m\u001b[0;34m\u001b[0m\u001b[0;34m\u001b[0m\u001b[0m\n",
      "\u001b[1;32m     40 \u001b[0m    \u001b[0;31m# Setup\u001b[0m\u001b[0;34m\u001b[0m\u001b[0;34m\u001b[0m\u001b[0m\n",
      "\u001b[1;32m     41 \u001b[0m    \u001b[0;31m# key, t_key = jr.split(key)\u001b[0m\u001b[0;34m\u001b[0m\u001b[0;34m\u001b[0m\u001b[0m\n",
      "\u001b[1;32m     42 \u001b[0m    \u001b[0;31m# t = jr.randint(t_key, (paas,), 30, sde.N-10)\u001b[0m\u001b[0;34m\u001b[0m\u001b[0;34m\u001b[0m\u001b[0m\n",
      "\u001b[0;32m---> 43 \u001b[0;31m    \u001b[0mt\u001b[0m \u001b[0;34m=\u001b[0m \u001b[0mint\u001b[0m\u001b[0;34m(\u001b[0m\u001b[0;34m(\u001b[0m\u001b[0;36m2\u001b[0m\u001b[0;34m*\u001b[0m\u001b[0mjax\u001b[0m\u001b[0;34m.\u001b[0m\u001b[0mnn\u001b[0m\u001b[0;34m.\u001b[0m\u001b[0msigmoid\u001b[0m\u001b[0;34m(\u001b[0m\u001b[0;34m-\u001b[0m\u001b[0;36m6\u001b[0m\u001b[0;34m*\u001b[0m\u001b[0mstep\u001b[0m\u001b[0;34m/\u001b[0m\u001b[0mn_steps\u001b[0m\u001b[0;34m)\u001b[0m\u001b[0;34m)\u001b[0m\u001b[0;34m*\u001b[0m\u001b[0msde\u001b[0m\u001b[0;34m.\u001b[0m\u001b[0mN\u001b[0m\u001b[0;34m)\u001b[0m\u001b[0;34m\u001b[0m\u001b[0;34m\u001b[0m\u001b[0m\n",
      "\u001b[0m\u001b[1;32m     44 \u001b[0m    \u001b[0;31m# t = jnp.ones((paas,), dtype=jnp.int32) * int(((n_steps-step)/n_steps)*sde.N)\u001b[0m\u001b[0;34m\u001b[0m\u001b[0;34m\u001b[0m\u001b[0m\n",
      "\u001b[1;32m     45 \u001b[0m\u001b[0;34m\u001b[0m\u001b[0m\n",
      "\u001b[1;32m     46 \u001b[0m    \u001b[0mx_pi\u001b[0m\u001b[0;34m,\u001b[0m \u001b[0mkey\u001b[0m \u001b[0;34m=\u001b[0m \u001b[0mmake_step\u001b[0m\u001b[0;34m(\u001b[0m\u001b[0mx_pi\u001b[0m\u001b[0;34m,\u001b[0m \u001b[0mt\u001b[0m\u001b[0;34m,\u001b[0m \u001b[0mkey\u001b[0m\u001b[0;34m)\u001b[0m\u001b[0;34m\u001b[0m\u001b[0;34m\u001b[0m\u001b[0m\n",
      "\u001b[1;32m     47 \u001b[0m    \u001b[0;31m# print(f\"Step {step}, t {t[0]/sde.N:.3f}, Loss {loss:.3f}\", end=\"\\r\")\u001b[0m\u001b[0;34m\u001b[0m\u001b[0;34m\u001b[0m\u001b[0m\n",
      "\u001b[1;32m     48 \u001b[0m    \u001b[0mprint\u001b[0m\u001b[0;34m(\u001b[0m\u001b[0;34mf\"Step {step}, t {t/sde.N:.3f}\"\u001b[0m\u001b[0;34m,\u001b[0m \u001b[0mend\u001b[0m\u001b[0;34m=\u001b[0m\u001b[0;34m\"\\r\"\u001b[0m\u001b[0;34m)\u001b[0m\u001b[0;34m\u001b[0m\u001b[0;34m\u001b[0m\u001b[0m\n",
      "\n"
     ]
    },
    {
     "name": "stdin",
     "output_type": "stream",
     "text": [
      "ipdb>  c\n"
     ]
    },
    {
     "name": "stdout",
     "output_type": "stream",
     "text": [
      "> \u001b[0;32m/state/partition1/job-40110068/ipykernel_2406360/3965836461.py\u001b[0m(15)\u001b[0;36mmake_step\u001b[0;34m()\u001b[0m\n",
      "\u001b[0;32m     13 \u001b[0;31m\u001b[0;34m\u001b[0m\u001b[0m\n",
      "\u001b[0m\u001b[0;32m     14 \u001b[0;31m    \u001b[0;31m# Noise for Langevin\u001b[0m\u001b[0;34m\u001b[0m\u001b[0;34m\u001b[0m\u001b[0m\n",
      "\u001b[0m\u001b[0;32m---> 15 \u001b[0;31m    \u001b[0mkey\u001b[0m\u001b[0;34m,\u001b[0m \u001b[0meps_key\u001b[0m \u001b[0;34m=\u001b[0m \u001b[0mjr\u001b[0m\u001b[0;34m.\u001b[0m\u001b[0msplit\u001b[0m\u001b[0;34m(\u001b[0m\u001b[0mkey\u001b[0m\u001b[0;34m)\u001b[0m\u001b[0;34m\u001b[0m\u001b[0;34m\u001b[0m\u001b[0m\n",
      "\u001b[0m\u001b[0;32m     16 \u001b[0;31m    \u001b[0mnoise\u001b[0m \u001b[0;34m=\u001b[0m \u001b[0mjr\u001b[0m\u001b[0;34m.\u001b[0m\u001b[0mnormal\u001b[0m\u001b[0;34m(\u001b[0m\u001b[0meps_key\u001b[0m\u001b[0;34m,\u001b[0m \u001b[0mx_pi\u001b[0m\u001b[0;34m.\u001b[0m\u001b[0mshape\u001b[0m\u001b[0;34m)\u001b[0m\u001b[0;34m[\u001b[0m\u001b[0;32mNone\u001b[0m\u001b[0;34m,\u001b[0m\u001b[0;34m...\u001b[0m\u001b[0;34m]\u001b[0m\u001b[0;34m\u001b[0m\u001b[0;34m\u001b[0m\u001b[0m\n",
      "\u001b[0m\u001b[0;32m     17 \u001b[0;31m\u001b[0;34m\u001b[0m\u001b[0m\n",
      "\u001b[0m\n"
     ]
    },
    {
     "name": "stdin",
     "output_type": "stream",
     "text": [
      "ipdb>  l\n"
     ]
    },
    {
     "name": "stdout",
     "output_type": "stream",
     "text": [
      "\u001b[1;32m     10 \u001b[0m    \u001b[0mscore\u001b[0m \u001b[0;34m=\u001b[0m \u001b[0mscore_fn\u001b[0m\u001b[0;34m(\u001b[0m\u001b[0mx_pi\u001b[0m\u001b[0;34m[\u001b[0m\u001b[0;32mNone\u001b[0m\u001b[0;34m,\u001b[0m\u001b[0;34m...\u001b[0m\u001b[0;34m]\u001b[0m\u001b[0;34m,\u001b[0m \u001b[0mjnp\u001b[0m\u001b[0;34m.\u001b[0m\u001b[0mones\u001b[0m\u001b[0;34m(\u001b[0m\u001b[0;36m1\u001b[0m\u001b[0;34m)\u001b[0m\u001b[0;34m*\u001b[0m\u001b[0mt\u001b[0m\u001b[0;34m/\u001b[0m\u001b[0;34m(\u001b[0m\u001b[0msde\u001b[0m\u001b[0;34m.\u001b[0m\u001b[0mN\u001b[0m\u001b[0;34m-\u001b[0m\u001b[0;36m1\u001b[0m\u001b[0;34m)\u001b[0m\u001b[0;34m)\u001b[0m\u001b[0;34m\u001b[0m\u001b[0;34m\u001b[0m\u001b[0m\n",
      "\u001b[1;32m     11 \u001b[0m    \u001b[0mPdb\u001b[0m\u001b[0;34m(\u001b[0m\u001b[0;34m)\u001b[0m\u001b[0;34m.\u001b[0m\u001b[0mset_trace\u001b[0m\u001b[0;34m(\u001b[0m\u001b[0;34m)\u001b[0m\u001b[0;34m\u001b[0m\u001b[0;34m\u001b[0m\u001b[0m\n",
      "\u001b[1;32m     12 \u001b[0m\u001b[0;34m\u001b[0m\u001b[0m\n",
      "\u001b[1;32m     13 \u001b[0m\u001b[0;34m\u001b[0m\u001b[0m\n",
      "\u001b[1;32m     14 \u001b[0m    \u001b[0;31m# Noise for Langevin\u001b[0m\u001b[0;34m\u001b[0m\u001b[0;34m\u001b[0m\u001b[0m\n",
      "\u001b[0;32m---> 15 \u001b[0;31m    \u001b[0mkey\u001b[0m\u001b[0;34m,\u001b[0m \u001b[0meps_key\u001b[0m \u001b[0;34m=\u001b[0m \u001b[0mjr\u001b[0m\u001b[0;34m.\u001b[0m\u001b[0msplit\u001b[0m\u001b[0;34m(\u001b[0m\u001b[0mkey\u001b[0m\u001b[0;34m)\u001b[0m\u001b[0;34m\u001b[0m\u001b[0;34m\u001b[0m\u001b[0m\n",
      "\u001b[0m\u001b[1;32m     16 \u001b[0m    \u001b[0mnoise\u001b[0m \u001b[0;34m=\u001b[0m \u001b[0mjr\u001b[0m\u001b[0;34m.\u001b[0m\u001b[0mnormal\u001b[0m\u001b[0;34m(\u001b[0m\u001b[0meps_key\u001b[0m\u001b[0;34m,\u001b[0m \u001b[0mx_pi\u001b[0m\u001b[0;34m.\u001b[0m\u001b[0mshape\u001b[0m\u001b[0;34m)\u001b[0m\u001b[0;34m[\u001b[0m\u001b[0;32mNone\u001b[0m\u001b[0;34m,\u001b[0m\u001b[0;34m...\u001b[0m\u001b[0;34m]\u001b[0m\u001b[0;34m\u001b[0m\u001b[0;34m\u001b[0m\u001b[0m\n",
      "\u001b[1;32m     17 \u001b[0m\u001b[0;34m\u001b[0m\u001b[0m\n",
      "\u001b[1;32m     18 \u001b[0m    \u001b[0mkey\u001b[0m\u001b[0;34m,\u001b[0m \u001b[0mpkey\u001b[0m \u001b[0;34m=\u001b[0m \u001b[0mjr\u001b[0m\u001b[0;34m.\u001b[0m\u001b[0msplit\u001b[0m\u001b[0;34m(\u001b[0m\u001b[0mkey\u001b[0m\u001b[0;34m)\u001b[0m\u001b[0;34m\u001b[0m\u001b[0;34m\u001b[0m\u001b[0m\n",
      "\u001b[1;32m     19 \u001b[0m    \u001b[0minv_H\u001b[0m\u001b[0;34m,\u001b[0m \u001b[0misqrt_H\u001b[0m \u001b[0;34m=\u001b[0m \u001b[0mget_matrices\u001b[0m\u001b[0;34m(\u001b[0m\u001b[0mx_pi\u001b[0m\u001b[0;34m,\u001b[0m \u001b[0mt\u001b[0m\u001b[0;34m/\u001b[0m\u001b[0;34m(\u001b[0m\u001b[0msde\u001b[0m\u001b[0;34m.\u001b[0m\u001b[0mN\u001b[0m\u001b[0;34m-\u001b[0m\u001b[0;36m1\u001b[0m\u001b[0;34m)\u001b[0m\u001b[0;34m,\u001b[0m \u001b[0mpkey\u001b[0m\u001b[0;34m)\u001b[0m\u001b[0;34m\u001b[0m\u001b[0;34m\u001b[0m\u001b[0m\n",
      "\u001b[1;32m     20 \u001b[0m    \u001b[0;31m# Langevin update\u001b[0m\u001b[0;34m\u001b[0m\u001b[0;34m\u001b[0m\u001b[0m\n",
      "\n"
     ]
    },
    {
     "name": "stdin",
     "output_type": "stream",
     "text": [
      "ipdb>  score\n"
     ]
    },
    {
     "name": "stdout",
     "output_type": "stream",
     "text": [
      "Array([[[[-0.39628005,  0.62515235, -1.6585238 ],\n",
      "         [-0.30147612,  0.7819251 , -0.3428945 ],\n",
      "         [ 1.3472438 , -1.7811029 , -0.48028794],\n",
      "         ...,\n",
      "         [ 0.20773342, -0.3970177 , -0.7895676 ],\n",
      "         [ 3.075234  , -0.06048543, -0.34707987],\n",
      "         [-0.04049047,  0.7202895 , -0.05293918]],\n",
      "\n",
      "        [[ 0.01642539, -1.4287863 , -0.06372819],\n",
      "         [-0.71092176, -0.0649247 ,  0.17673746],\n",
      "         [-0.10474903, -0.63340735, -0.6672268 ],\n",
      "         ...,\n",
      "         [-0.43132472,  0.16265841, -0.7191334 ],\n",
      "         [-0.15271041,  1.3904352 , -0.13139471],\n",
      "         [ 0.1729356 , -2.0690467 ,  1.2096071 ]],\n",
      "\n",
      "        [[ 1.5436499 ,  0.05702796, -0.61622685],\n",
      "         [ 0.2652926 ,  1.3743364 ,  2.4509075 ],\n",
      "         [-0.6241195 ,  0.05486676, -0.03791048],\n",
      "         ...,\n",
      "         [-1.293275  ,  1.0757096 , -0.72992057],\n",
      "         [-0.65614635,  0.92448264,  0.64374346],\n",
      "         [-0.753086  , -0.10354564,  1.6402733 ]],\n",
      "\n",
      "        ...,\n",
      "\n",
      "        [[ 0.28327686, -0.77902687,  1.8049977 ],\n",
      "         [ 0.37063408, -0.20791198,  0.6062911 ],\n",
      "         [-1.9745109 ,  2.4246483 ,  1.2688057 ],\n",
      "         ...,\n",
      "         [-1.0135726 , -1.6657461 ,  1.3921496 ],\n",
      "         [-1.0032492 , -2.0541449 , -0.25537053],\n",
      "         [-0.39321572,  1.39963   , -0.36228576]],\n",
      "\n",
      "        [[-0.7995435 , -0.04991527,  0.7745536 ],\n",
      "         [-1.3064045 , -0.4178242 , -0.5379436 ],\n",
      "         [ 0.18313268, -0.85456914, -0.25751987],\n",
      "         ...,\n",
      "         [-2.8117676 , -0.49176395,  1.2160205 ],\n",
      "         [ 1.7806647 , -1.2457755 , -0.27615026],\n",
      "         [-0.47920227, -2.3307645 , -0.3303964 ]],\n",
      "\n",
      "        [[-1.9550446 ,  0.7208225 ,  0.6015745 ],\n",
      "         [-1.1893532 ,  1.9820728 , -0.43596378],\n",
      "         [ 1.130868  ,  0.96742606,  1.1774796 ],\n",
      "         ...,\n",
      "         [ 1.5604031 , -0.05498865, -1.4957373 ],\n",
      "         [ 0.4371148 ,  1.3975165 ,  1.0719169 ],\n",
      "         [-0.26138103,  0.4840533 , -1.534683  ]]]], dtype=float32)\n"
     ]
    },
    {
     "name": "stdin",
     "output_type": "stream",
     "text": [
      "ipdb>  score.shape\n"
     ]
    },
    {
     "name": "stdout",
     "output_type": "stream",
     "text": [
      "(1, 32, 32, 3)\n"
     ]
    },
    {
     "name": "stdin",
     "output_type": "stream",
     "text": [
      "ipdb>  score.device\n"
     ]
    },
    {
     "name": "stdout",
     "output_type": "stream",
     "text": [
      "<bound method ArrayImpl.device of Array([[[[-0.39628005,  0.62515235, -1.6585238 ],\n",
      "         [-0.30147612,  0.7819251 , -0.3428945 ],\n",
      "         [ 1.3472438 , -1.7811029 , -0.48028794],\n",
      "         ...,\n",
      "         [ 0.20773342, -0.3970177 , -0.7895676 ],\n",
      "         [ 3.075234  , -0.06048543, -0.34707987],\n",
      "         [-0.04049047,  0.7202895 , -0.05293918]],\n",
      "\n",
      "        [[ 0.01642539, -1.4287863 , -0.06372819],\n",
      "         [-0.71092176, -0.0649247 ,  0.17673746],\n",
      "         [-0.10474903, -0.63340735, -0.6672268 ],\n",
      "         ...,\n",
      "         [-0.43132472,  0.16265841, -0.7191334 ],\n",
      "         [-0.15271041,  1.3904352 , -0.13139471],\n",
      "         [ 0.1729356 , -2.0690467 ,  1.2096071 ]],\n",
      "\n",
      "        [[ 1.5436499 ,  0.05702796, -0.61622685],\n",
      "         [ 0.2652926 ,  1.3743364 ,  2.4509075 ],\n",
      "         [-0.6241195 ,  0.05486676, -0.03791048],\n",
      "         ...,\n",
      "         [-1.293275  ,  1.0757096 , -0.72992057],\n",
      "         [-0.65614635,  0.92448264,  0.64374346],\n",
      "         [-0.753086  , -0.10354564,  1.6402733 ]],\n",
      "\n",
      "        ...,\n",
      "\n",
      "        [[ 0.28327686, -0.77902687,  1.8049977 ],\n",
      "         [ 0.37063408, -0.20791198,  0.6062911 ],\n",
      "         [-1.9745109 ,  2.4246483 ,  1.2688057 ],\n",
      "         ...,\n",
      "         [-1.0135726 , -1.6657461 ,  1.3921496 ],\n",
      "         [-1.0032492 , -2.0541449 , -0.25537053],\n",
      "         [-0.39321572,  1.39963   , -0.36228576]],\n",
      "\n",
      "        [[-0.7995435 , -0.04991527,  0.7745536 ],\n",
      "         [-1.3064045 , -0.4178242 , -0.5379436 ],\n",
      "         [ 0.18313268, -0.85456914, -0.25751987],\n",
      "         ...,\n",
      "         [-2.8117676 , -0.49176395,  1.2160205 ],\n",
      "         [ 1.7806647 , -1.2457755 , -0.27615026],\n",
      "         [-0.47920227, -2.3307645 , -0.3303964 ]],\n",
      "\n",
      "        [[-1.9550446 ,  0.7208225 ,  0.6015745 ],\n",
      "         [-1.1893532 ,  1.9820728 , -0.43596378],\n",
      "         [ 1.130868  ,  0.96742606,  1.1774796 ],\n",
      "         ...,\n",
      "         [ 1.5604031 , -0.05498865, -1.4957373 ],\n",
      "         [ 0.4371148 ,  1.3975165 ,  1.0719169 ],\n",
      "         [-0.26138103,  0.4840533 , -1.534683  ]]]], dtype=float32)>\n"
     ]
    },
    {
     "name": "stdin",
     "output_type": "stream",
     "text": [
      "ipdb>  score.device()\n"
     ]
    },
    {
     "name": "stdout",
     "output_type": "stream",
     "text": [
      "CpuDevice(id=0)\n"
     ]
    },
    {
     "name": "stdin",
     "output_type": "stream",
     "text": [
      "ipdb>  l\n"
     ]
    },
    {
     "name": "stdout",
     "output_type": "stream",
     "text": [
      "\u001b[1;32m     21 \u001b[0m    \u001b[0mx_mean\u001b[0m \u001b[0;34m=\u001b[0m \u001b[0mx_pi\u001b[0m \u001b[0;34m+\u001b[0m \u001b[0mutils\u001b[0m\u001b[0;34m.\u001b[0m\u001b[0mbatch_mul\u001b[0m\u001b[0;34m(\u001b[0m\u001b[0mstep_size\u001b[0m\u001b[0;34m,\u001b[0m \u001b[0;34m(\u001b[0m\u001b[0minv_H\u001b[0m\u001b[0;34m@\u001b[0m\u001b[0mscore\u001b[0m\u001b[0;34m.\u001b[0m\u001b[0mreshape\u001b[0m\u001b[0;34m(\u001b[0m\u001b[0;34m-\u001b[0m\u001b[0;36m1\u001b[0m\u001b[0;34m)\u001b[0m\u001b[0;34m)\u001b[0m\u001b[0;34m.\u001b[0m\u001b[0mreshape\u001b[0m\u001b[0;34m(\u001b[0m\u001b[0mscore\u001b[0m\u001b[0;34m.\u001b[0m\u001b[0mshape\u001b[0m\u001b[0;34m)\u001b[0m\u001b[0;34m)\u001b[0m\u001b[0;34m\u001b[0m\u001b[0;34m\u001b[0m\u001b[0m\n",
      "\u001b[1;32m     22 \u001b[0m    \u001b[0mx_pi\u001b[0m \u001b[0;34m=\u001b[0m \u001b[0mx_mean\u001b[0m \u001b[0;34m+\u001b[0m \u001b[0mutils\u001b[0m\u001b[0;34m.\u001b[0m\u001b[0mbatch_mul\u001b[0m\u001b[0;34m(\u001b[0m\u001b[0;34m(\u001b[0m\u001b[0misqrt_H\u001b[0m\u001b[0;34m@\u001b[0m\u001b[0mnoise\u001b[0m\u001b[0;34m.\u001b[0m\u001b[0mreshape\u001b[0m\u001b[0;34m(\u001b[0m\u001b[0;34m-\u001b[0m\u001b[0;36m1\u001b[0m\u001b[0;34m)\u001b[0m\u001b[0;34m)\u001b[0m\u001b[0;34m.\u001b[0m\u001b[0mreshape\u001b[0m\u001b[0;34m(\u001b[0m\u001b[0mnoise\u001b[0m\u001b[0;34m.\u001b[0m\u001b[0mshape\u001b[0m\u001b[0;34m)\u001b[0m\u001b[0;34m,\u001b[0m \u001b[0mjnp\u001b[0m\u001b[0;34m.\u001b[0m\u001b[0msqrt\u001b[0m\u001b[0;34m(\u001b[0m\u001b[0mstep_size\u001b[0m \u001b[0;34m*\u001b[0m \u001b[0;36m2\u001b[0m\u001b[0;34m)\u001b[0m\u001b[0;34m)\u001b[0m\u001b[0;34m\u001b[0m\u001b[0;34m\u001b[0m\u001b[0m\n",
      "\u001b[1;32m     23 \u001b[0m    \u001b[0mx_pi\u001b[0m \u001b[0;34m=\u001b[0m \u001b[0mx_pi\u001b[0m\u001b[0;34m[\u001b[0m\u001b[0;36m0\u001b[0m\u001b[0;34m]\u001b[0m\u001b[0;34m\u001b[0m\u001b[0;34m\u001b[0m\u001b[0m\n",
      "\u001b[1;32m     24 \u001b[0m    \u001b[0;32mreturn\u001b[0m \u001b[0mx_pi\u001b[0m\u001b[0;34m,\u001b[0m \u001b[0mkey\u001b[0m\u001b[0;34m\u001b[0m\u001b[0;34m\u001b[0m\u001b[0m\n",
      "\u001b[1;32m     25 \u001b[0m\u001b[0;34m\u001b[0m\u001b[0m\n",
      "\u001b[1;32m     26 \u001b[0m\u001b[0;31m# Setup the plot outside of the loop\u001b[0m\u001b[0;34m\u001b[0m\u001b[0;34m\u001b[0m\u001b[0m\n",
      "\u001b[1;32m     27 \u001b[0m\u001b[0mfig\u001b[0m\u001b[0;34m,\u001b[0m \u001b[0max1\u001b[0m \u001b[0;34m=\u001b[0m \u001b[0mplt\u001b[0m\u001b[0;34m.\u001b[0m\u001b[0msubplots\u001b[0m\u001b[0;34m(\u001b[0m\u001b[0;36m1\u001b[0m\u001b[0;34m,\u001b[0m \u001b[0;36m1\u001b[0m\u001b[0;34m,\u001b[0m \u001b[0mfigsize\u001b[0m\u001b[0;34m=\u001b[0m\u001b[0;34m(\u001b[0m\u001b[0;36m6\u001b[0m\u001b[0;34m,\u001b[0m \u001b[0;36m6\u001b[0m\u001b[0;34m)\u001b[0m\u001b[0;34m)\u001b[0m\u001b[0;34m\u001b[0m\u001b[0;34m\u001b[0m\u001b[0m\n",
      "\u001b[1;32m     28 \u001b[0m\u001b[0mimage1\u001b[0m \u001b[0;34m=\u001b[0m \u001b[0max1\u001b[0m\u001b[0;34m.\u001b[0m\u001b[0mimshow\u001b[0m\u001b[0;34m(\u001b[0m\u001b[0minverse_scaler\u001b[0m\u001b[0;34m(\u001b[0m\u001b[0mx_pi\u001b[0m\u001b[0;34m)\u001b[0m\u001b[0;34m)\u001b[0m\u001b[0;34m\u001b[0m\u001b[0;34m\u001b[0m\u001b[0m\n",
      "\u001b[1;32m     29 \u001b[0m\u001b[0;34m\u001b[0m\u001b[0m\n",
      "\u001b[1;32m     30 \u001b[0m\u001b[0mkey\u001b[0m \u001b[0;34m=\u001b[0m \u001b[0mjr\u001b[0m\u001b[0;34m.\u001b[0m\u001b[0mPRNGKey\u001b[0m\u001b[0;34m(\u001b[0m\u001b[0;36m101\u001b[0m\u001b[0;34m)\u001b[0m\u001b[0;34m\u001b[0m\u001b[0;34m\u001b[0m\u001b[0m\n",
      "\u001b[1;32m     31 \u001b[0m\u001b[0mx_pi\u001b[0m \u001b[0;34m=\u001b[0m \u001b[0mjr\u001b[0m\u001b[0;34m.\u001b[0m\u001b[0mnormal\u001b[0m\u001b[0;34m(\u001b[0m\u001b[0mkey\u001b[0m\u001b[0;34m,\u001b[0m \u001b[0;34m(\u001b[0m\u001b[0;36m32\u001b[0m\u001b[0;34m,\u001b[0m \u001b[0;36m32\u001b[0m\u001b[0;34m,\u001b[0m \u001b[0;36m3\u001b[0m\u001b[0;34m)\u001b[0m\u001b[0;34m)\u001b[0m\u001b[0;34m\u001b[0m\u001b[0;34m\u001b[0m\u001b[0m\n",
      "\n"
     ]
    },
    {
     "name": "stdin",
     "output_type": "stream",
     "text": [
      "ipdb>  c\n"
     ]
    },
    {
     "name": "stdout",
     "output_type": "stream",
     "text": [
      "> \u001b[0;32m/state/partition1/job-40110068/ipykernel_2406360/499947603.py\u001b[0m(20)\u001b[0;36mget_matrices\u001b[0;34m()\u001b[0m\n",
      "\u001b[0;32m     18 \u001b[0;31m\u001b[0;34m\u001b[0m\u001b[0m\n",
      "\u001b[0m\u001b[0;32m     19 \u001b[0;31m\u001b[0;34m\u001b[0m\u001b[0m\n",
      "\u001b[0m\u001b[0;32m---> 20 \u001b[0;31m    \u001b[0mreg_H\u001b[0m \u001b[0;34m=\u001b[0m \u001b[0mcola\u001b[0m\u001b[0;34m.\u001b[0m\u001b[0mPSD\u001b[0m\u001b[0;34m(\u001b[0m\u001b[0mH\u001b[0m \u001b[0;34m+\u001b[0m \u001b[0meps\u001b[0m\u001b[0;34m*\u001b[0m\u001b[0mcola\u001b[0m\u001b[0;34m.\u001b[0m\u001b[0mops\u001b[0m\u001b[0;34m.\u001b[0m\u001b[0mI_like\u001b[0m\u001b[0;34m(\u001b[0m\u001b[0mH\u001b[0m\u001b[0;34m)\u001b[0m\u001b[0;34m)\u001b[0m\u001b[0;34m\u001b[0m\u001b[0;34m\u001b[0m\u001b[0m\n",
      "\u001b[0m\u001b[0;32m     21 \u001b[0;31m    \u001b[0;31m#U = cola.lazify(P.U)\u001b[0m\u001b[0;34m\u001b[0m\u001b[0;34m\u001b[0m\u001b[0m\n",
      "\u001b[0m\u001b[0;32m     22 \u001b[0;31m    \u001b[0;31m#D2 = cola.ops.Diagonal(jnp.sqrt(1+P.subspace_scaling[:,0])-1)\u001b[0m\u001b[0;34m\u001b[0m\u001b[0;34m\u001b[0m\u001b[0m\n",
      "\u001b[0m\n"
     ]
    },
    {
     "name": "stdin",
     "output_type": "stream",
     "text": [
      "ipdb>  l\n"
     ]
    },
    {
     "name": "stdout",
     "output_type": "stream",
     "text": [
      "\u001b[1;32m     15 \u001b[0m    \u001b[0mP\u001b[0m \u001b[0;34m=\u001b[0m \u001b[0mcola\u001b[0m\u001b[0;34m.\u001b[0m\u001b[0mops\u001b[0m\u001b[0;34m.\u001b[0m\u001b[0mI_like\u001b[0m\u001b[0;34m(\u001b[0m\u001b[0mH\u001b[0m\u001b[0;34m)\u001b[0m\u001b[0;31m#NystromPrecond(H, rank=30, mu=1e-1, key=key)\u001b[0m\u001b[0;34m\u001b[0m\u001b[0;34m\u001b[0m\u001b[0m\n",
      "\u001b[1;32m     16 \u001b[0m    \u001b[0meps\u001b[0m \u001b[0;34m=\u001b[0m \u001b[0;36m1e-2\u001b[0m\u001b[0;34m*\u001b[0m\u001b[0mcola\u001b[0m\u001b[0;34m.\u001b[0m\u001b[0meigmax\u001b[0m\u001b[0;34m(\u001b[0m\u001b[0mH\u001b[0m\u001b[0;34m,\u001b[0m \u001b[0malg\u001b[0m\u001b[0;34m=\u001b[0m\u001b[0mPowerIteration\u001b[0m\u001b[0;34m(\u001b[0m\u001b[0mmax_iter\u001b[0m\u001b[0;34m=\u001b[0m\u001b[0;36m5\u001b[0m\u001b[0;34m)\u001b[0m\u001b[0;34m)\u001b[0m\u001b[0;31m#P.adjusted_mu\u001b[0m\u001b[0;34m\u001b[0m\u001b[0;34m\u001b[0m\u001b[0m\n",
      "\u001b[1;32m     17 \u001b[0m    \u001b[0mPdb\u001b[0m\u001b[0;34m(\u001b[0m\u001b[0;34m)\u001b[0m\u001b[0;34m.\u001b[0m\u001b[0mset_trace\u001b[0m\u001b[0;34m(\u001b[0m\u001b[0;34m)\u001b[0m\u001b[0;34m\u001b[0m\u001b[0;34m\u001b[0m\u001b[0m\n",
      "\u001b[1;32m     18 \u001b[0m\u001b[0;34m\u001b[0m\u001b[0m\n",
      "\u001b[1;32m     19 \u001b[0m\u001b[0;34m\u001b[0m\u001b[0m\n",
      "\u001b[0;32m---> 20 \u001b[0;31m    \u001b[0mreg_H\u001b[0m \u001b[0;34m=\u001b[0m \u001b[0mcola\u001b[0m\u001b[0;34m.\u001b[0m\u001b[0mPSD\u001b[0m\u001b[0;34m(\u001b[0m\u001b[0mH\u001b[0m \u001b[0;34m+\u001b[0m \u001b[0meps\u001b[0m\u001b[0;34m*\u001b[0m\u001b[0mcola\u001b[0m\u001b[0;34m.\u001b[0m\u001b[0mops\u001b[0m\u001b[0;34m.\u001b[0m\u001b[0mI_like\u001b[0m\u001b[0;34m(\u001b[0m\u001b[0mH\u001b[0m\u001b[0;34m)\u001b[0m\u001b[0;34m)\u001b[0m\u001b[0;34m\u001b[0m\u001b[0;34m\u001b[0m\u001b[0m\n",
      "\u001b[0m\u001b[1;32m     21 \u001b[0m    \u001b[0;31m#U = cola.lazify(P.U)\u001b[0m\u001b[0;34m\u001b[0m\u001b[0;34m\u001b[0m\u001b[0m\n",
      "\u001b[1;32m     22 \u001b[0m    \u001b[0;31m#D2 = cola.ops.Diagonal(jnp.sqrt(1+P.subspace_scaling[:,0])-1)\u001b[0m\u001b[0;34m\u001b[0m\u001b[0;34m\u001b[0m\u001b[0m\n",
      "\u001b[1;32m     23 \u001b[0m    \u001b[0msqrtP\u001b[0m \u001b[0;34m=\u001b[0m \u001b[0mP\u001b[0m\u001b[0;31m#U @ D2 @ U.T + cola.ops.I_like(P)\u001b[0m\u001b[0;34m\u001b[0m\u001b[0;34m\u001b[0m\u001b[0m\n",
      "\u001b[1;32m     24 \u001b[0m    \u001b[0;31m#D3 = cola.ops.Diagonal((1+P.subspace_scaling[:,0])**0.25-1)\u001b[0m\u001b[0;34m\u001b[0m\u001b[0;34m\u001b[0m\u001b[0m\n",
      "\u001b[1;32m     25 \u001b[0m    \u001b[0mP_quart\u001b[0m \u001b[0;34m=\u001b[0m \u001b[0mcola\u001b[0m\u001b[0;34m.\u001b[0m\u001b[0mops\u001b[0m\u001b[0;34m.\u001b[0m\u001b[0mI_like\u001b[0m\u001b[0;34m(\u001b[0m\u001b[0mP\u001b[0m\u001b[0;34m)\u001b[0m\u001b[0;31m#U @ D3 @ U.T + cola.ops.I_like(P)\u001b[0m\u001b[0;34m\u001b[0m\u001b[0;34m\u001b[0m\u001b[0m\n",
      "\n"
     ]
    },
    {
     "name": "stdin",
     "output_type": "stream",
     "text": [
      "ipdb>  H\n"
     ]
    },
    {
     "name": "stdout",
     "output_type": "stream",
     "text": [
      "<3072x3072 Product[cola.ops.operators.ScalarMul, cola.ops.operators.Product[cola.ops.operators.ScalarMul, cola.ops.operators.Sum[cola.ops.operators.Transpose[cola.ops.operators.Jacobian], cola.ops.operators.Jacobian]]] with dtype=float32>\n"
     ]
    },
    {
     "name": "stdin",
     "output_type": "stream",
     "text": [
      "ipdb>  dir(H)\n"
     ]
    },
    {
     "name": "stdout",
     "output_type": "stream",
     "text": [
      "['H', 'Ms', 'T', '__add__', '__annotations__', '__array_ufunc__', '__class__', '__delattr__', '__dict__', '__dir__', '__doc__', '__eq__', '__format__', '__ge__', '__getattribute__', '__getitem__', '__gt__', '__hash__', '__init__', '__init_subclass__', '__le__', '__lt__', '__matmul__', '__module__', '__mul__', '__ne__', '__neg__', '__new__', '__radd__', '__reduce__', '__reduce_ex__', '__repr__', '__rmatmul__', '__rmul__', '__rtruediv__', '__setattr__', '__sizeof__', '__str__', '__sub__', '__subclasshook__', '__truediv__', '__weakref__', '_concrete', '_dynamic', '_matmat', '_parametric', '_rmatmat', '_type_parameter', 'annotations', 'device', 'dtype', 'flatten', 'isa', 'shape', 'to', 'to_dense', 'tree_flatten', 'tree_unflatten', 'xnp']\n"
     ]
    },
    {
     "name": "stdin",
     "output_type": "stream",
     "text": [
      "ipdb>  H.shape\n"
     ]
    },
    {
     "name": "stdout",
     "output_type": "stream",
     "text": [
      "(3072, 3072)\n"
     ]
    },
    {
     "name": "stdin",
     "output_type": "stream",
     "text": [
      "ipdb>  H\n"
     ]
    },
    {
     "name": "stdout",
     "output_type": "stream",
     "text": [
      "<3072x3072 Product[cola.ops.operators.ScalarMul, cola.ops.operators.Product[cola.ops.operators.ScalarMul, cola.ops.operators.Sum[cola.ops.operators.Transpose[cola.ops.operators.Jacobian], cola.ops.operators.Jacobian]]] with dtype=float32>\n"
     ]
    },
    {
     "name": "stdin",
     "output_type": "stream",
     "text": [
      "ipdb>  eig_vals, eig_vecs = np.linalg.eigh(H)\n"
     ]
    },
    {
     "name": "stdout",
     "output_type": "stream",
     "text": [
      "*** numpy.linalg.LinAlgError: 0-dimensional array given. Array must be at least two-dimensional\n"
     ]
    },
    {
     "name": "stdin",
     "output_type": "stream",
     "text": [
      "ipdb>  eig_vals, eig_vecs = cola.eig(H, k=30, which='LM', alg=cola.Lanczos(max_iters=30, tol=1e-3, pbar=True))\n"
     ]
    },
    {
     "name": "stderr",
     "output_type": "stream",
     "text": [
      "Running body_fun: 100%|██████████| 100/100 [04:39<00:00, 2.80s/it] \n"
     ]
    },
    {
     "name": "stdin",
     "output_type": "stream",
     "text": [
      "ipdb>  eig_vals\n"
     ]
    },
    {
     "name": "stdout",
     "output_type": "stream",
     "text": [
      "Array([0.9472447 , 0.9700805 , 0.9778428 , 0.9804493 , 0.9820809 ,\n",
      "       0.9838983 , 0.984675  , 0.98506224, 0.9864354 , 0.9878241 ,\n",
      "       0.9905946 , 0.9915226 , 0.993013  , 0.9939531 , 0.99534494,\n",
      "       0.9967226 , 0.99800235, 0.9989913 , 0.9999341 , 1.0008798 ,\n",
      "       1.0019948 , 1.0031228 , 1.0041935 , 1.0050408 , 1.0058535 ,\n",
      "       1.0067973 , 1.00727   , 1.0083396 , 1.0094253 , 1.013133  ],      dtype=float32)\n"
     ]
    },
    {
     "name": "stdin",
     "output_type": "stream",
     "text": [
      "ipdb>  eig_vals, eig_vecs = cola.eig(H, k=30, which='SM', alg=cola.Lanczos(max_iters=30, tol=1e-3, pbar=True))\n"
     ]
    },
    {
     "name": "stderr",
     "output_type": "stream",
     "text": [
      "Running body_fun: 100%|██████████| 100/100 [04:39<00:00, 2.80s/it] \n"
     ]
    },
    {
     "name": "stdin",
     "output_type": "stream",
     "text": [
      "ipdb>  eig_vals\n"
     ]
    },
    {
     "name": "stdout",
     "output_type": "stream",
     "text": [
      "Array([0.9472447 , 0.9700805 , 0.9778428 , 0.9804493 , 0.9820809 ,\n",
      "       0.9838983 , 0.984675  , 0.98506224, 0.9864354 , 0.9878241 ,\n",
      "       0.9905946 , 0.9915226 , 0.993013  , 0.9939531 , 0.99534494,\n",
      "       0.9967226 , 0.99800235, 0.9989913 , 0.9999341 , 1.0008798 ,\n",
      "       1.0019948 , 1.0031228 , 1.0041935 , 1.0050408 , 1.0058535 ,\n",
      "       1.0067973 , 1.00727   , 1.0083396 , 1.0094253 , 1.013133  ],      dtype=float32)\n"
     ]
    },
    {
     "name": "stdin",
     "output_type": "stream",
     "text": [
      "ipdb>  q\n"
     ]
    },
    {
     "data": {
      "image/png": "[encoded data removed]",
      "text/plain": [
       "<Figure size 600x600 with 1 Axes>"
      ]
     },
     "metadata": {},
     "output_type": "display_data"
    }
   ],
   "source": [
    "\n",
    "\n",
    "# TODO: yilun's changes in commenting this out\n",
    "# @jax.jit\n",
    "def make_step(x_pi, t, key):\n",
    "    # Calculate step size\n",
    "    alpha = sde.alphas[t]\n",
    "    std = sde.marginal_prob(x_pi[None,...], jnp.ones(1)*t/(sde.N-1))[1]\n",
    "    step_size = (target_snr * std) ** 2 * 2 * alpha\n",
    "\n",
    "    # Calculate score\n",
    "    score = score_fn(x_pi[None,...], jnp.ones(1)*t/(sde.N-1))\n",
    "    Pdb().set_trace()\n",
    "    \n",
    "    \n",
    "    # Noise for Langevin\n",
    "    key, eps_key = jr.split(key)\n",
    "    noise = jr.normal(eps_key, x_pi.shape)[None,...]\n",
    "\n",
    "    key, pkey = jr.split(key)\n",
    "    inv_H, isqrt_H = get_matrices(x_pi, t/(sde.N-1), pkey)\n",
    "    # Langevin update\n",
    "    x_mean = x_pi + utils.batch_mul(step_size, (inv_H@score.reshape(-1)).reshape(score.shape))\n",
    "    x_pi = x_mean + utils.batch_mul((isqrt_H@noise.reshape(-1)).reshape(noise.shape), jnp.sqrt(step_size * 2))\n",
    "    x_pi = x_pi[0]\n",
    "    return x_pi, key\n",
    "\n",
    "# Setup the plot outside of the loop\n",
    "fig, ax1 = plt.subplots(1, 1, figsize=(6, 6))\n",
    "image1 = ax1.imshow(inverse_scaler(x_pi))\n",
    "\n",
    "key = jr.PRNGKey(101)\n",
    "x_pi = jr.normal(key, (32, 32, 3))\n",
    "\n",
    "display.clear_output(wait=True)\n",
    "image1.set_data(inverse_scaler(x_pi))\n",
    "display.display(plt.gcf())\n",
    "\n",
    "\n",
    "for step in range(n_steps):\n",
    "    Pdb().set_trace()\n",
    "    # Setup\n",
    "    # key, t_key = jr.split(key)\n",
    "    # t = jr.randint(t_key, (paas,), 30, sde.N-10)\n",
    "    t = int((2*jax.nn.sigmoid(-6*step/n_steps))*sde.N)\n",
    "    # t = jnp.ones((paas,), dtype=jnp.int32) * int(((n_steps-step)/n_steps)*sde.N)\n",
    "\n",
    "    x_pi, key = make_step(x_pi, t, key)\n",
    "    # print(f\"Step {step}, t {t[0]/sde.N:.3f}, Loss {loss:.3f}\", end=\"\\r\")\n",
    "    print(f\"Step {step}, t {t/sde.N:.3f}\", end=\"\\r\")\n",
    "    \n",
    "    Pdb().set_trace()\n",
    "\n",
    "    \n",
    "    if step % 10 == 0 and step:\n",
    "        # plt.imshow(inverse_scaler(jax.vmap(siren)(grid).reshape(img_size, img_size, 3)))\n",
    "        display.clear_output(wait=True)\n",
    "        image1.set_data(inverse_scaler(x_pi))\n",
    "        display.display(plt.gcf())"
   ]
  },
  {
   "cell_type": "code",
   "execution_count": 17,
   "metadata": {},
   "outputs": [
    {
     "ename": "ValueError",
     "evalue": "not enough values to unpack (expected 4, got 2)",
     "output_type": "error",
     "traceback": [
      "\u001b[0;31m---------------------------------------------------------------------------\u001b[0m",
      "\u001b[0;31mValueError\u001b[0m                                Traceback (most recent call last)",
      "Cell \u001b[0;32mIn[17], line 4\u001b[0m\n\u001b[1;32m      1\u001b[0m key \u001b[38;5;241m=\u001b[39m jr\u001b[38;5;241m.\u001b[39mPRNGKey(\u001b[38;5;241m101\u001b[39m)\n\u001b[1;32m      2\u001b[0m x \u001b[38;5;241m=\u001b[39m jr\u001b[38;5;241m.\u001b[39mnormal(key, (\u001b[38;5;241m32\u001b[39m, \u001b[38;5;241m32\u001b[39m, \u001b[38;5;241m3\u001b[39m))\n\u001b[0;32m----> 4\u001b[0m invH, isqrtH, P, H \u001b[38;5;241m=\u001b[39m get_matrices(x, \u001b[38;5;241m1\u001b[39m\u001b[38;5;241m-\u001b[39m\u001b[38;5;241m10\u001b[39m\u001b[38;5;241m/\u001b[39msde\u001b[38;5;241m.\u001b[39mN, key)\n",
      "\u001b[0;31mValueError\u001b[0m: not enough values to unpack (expected 4, got 2)"
     ]
    }
   ],
   "source": [
    "key = jr.PRNGKey(101)\n",
    "x = jr.normal(key, (32, 32, 3))\n",
    "\n",
    "invH, isqrtH, P, H = get_matrices(x, 1-10/sde.N, key)"
   ]
  },
  {
   "cell_type": "code",
   "execution_count": null,
   "metadata": {},
   "outputs": [],
   "source": [
    "Hdense = P.to_dense()\n",
    "es = jnp.linalg.eigvalsh(Hdense)\n",
    "plt.plot(es)"
   ]
  },
  {
   "cell_type": "code",
   "execution_count": 33,
   "metadata": {},
   "outputs": [
    {
     "data": {
      "text/plain": [
       "Array([nan, nan, nan, nan, nan, nan, nan, nan, nan, nan, nan, nan, nan,\n",
       "       nan, nan, nan, nan, nan, nan, nan, nan, nan, nan, nan, nan, nan,\n",
       "       nan, nan, nan, nan], dtype=float32)"
      ]
     },
     "execution_count": 33,
     "metadata": {},
     "output_type": "execute_result"
    }
   ],
   "source": [
    "P.Lambda"
   ]
  },
  {
   "cell_type": "code",
   "execution_count": 27,
   "metadata": {},
   "outputs": [],
   "source": [
    "key = jr.PRNGKey(101)\n",
    "x = jr.normal(key, (32, 32, 3))\n",
    "\n",
    "invH, isqrtH = get_matrices(x, 1-10/sde.N, key)"
   ]
  },
  {
   "cell_type": "code",
   "execution_count": null,
   "metadata": {},
   "outputs": [],
   "source": [
    "invH"
   ]
  },
  {
   "cell_type": "code",
   "execution_count": 25,
   "metadata": {},
   "outputs": [],
   "source": [
    "x = jr.normal(key, (32, 32, 3))\n",
    "e,v = cola.eig(score_hessian(x.reshape(-1), 1-10/sde.N),k=10, which='SM', alg=Lanczos(max_iters=30))"
   ]
  },
  {
   "cell_type": "code",
   "execution_count": 26,
   "metadata": {},
   "outputs": [
    {
     "data": {
      "text/plain": [
       "Array([0.96018845, 0.97582316, 0.9786645 , 0.98018295, 0.9819377 ,\n",
       "       0.9826432 , 0.98349875, 0.9841264 , 0.98638034, 0.98889446],      dtype=float32)"
      ]
     },
     "execution_count": 26,
     "metadata": {},
     "output_type": "execute_result"
    }
   ],
   "source": [
    "e"
   ]
  },
  {
   "cell_type": "code",
   "execution_count": null,
   "metadata": {},
   "outputs": [],
   "source": []
  },
  {
   "cell_type": "code",
   "execution_count": null,
   "metadata": {},
   "outputs": [],
   "source": []
  },
  {
   "cell_type": "code",
   "execution_count": null,
   "metadata": {},
   "outputs": [],
   "source": [
    "import time\n",
    "import pickle\n",
    "import cola\n",
    "from cola.linalg.decompositions.lanczos import lanczos_eigs\n",
    "\n",
    "\n",
    "def log_spectrum_results(A, alg, results, output_path):\n",
    "    out = get_spectrum_results(A, alg=alg)\n",
    "    results.append(out)\n",
    "    save_object(results, output_path)\n",
    "\n",
    "\n",
    "def get_spectrum_results(A, alg):\n",
    "    tic = time.time()\n",
    "    if isinstance(alg, cola.Lanczos):\n",
    "        # TODO: AP to fix this\n",
    "        eigvals, *_ = lanczos_eigs(A, **alg.__dict__)\n",
    "        method_name = \"lanczos\"\n",
    "    else:\n",
    "        eigvals, _ = cola.eig(A, k=A.shape[0], alg=alg)\n",
    "        method_name = \"cholesky\"\n",
    "    toc = time.time()\n",
    "    return {\"eigvals\": eigvals, \"time\": toc - tic, \"method\": method_name}\n",
    "\n",
    "\n",
    "def save_object(obj, filepath, use_highest=True):\n",
    "    protocol = pickle.HIGHEST_PROTOCOL if use_highest else pickle.DEFAULT_PROTOCOL\n",
    "    with open(file=filepath, mode='wb') as f:\n",
    "        pickle.dump(obj=obj, file=f, protocol=protocol)\n"
   ]
  },
  {
   "cell_type": "code",
   "execution_count": null,
   "metadata": {},
   "outputs": [],
   "source": [
    "from jax.random import normal\n",
    "from jax.random import PRNGKey\n",
    "import cola\n",
    "from experiments.experiment_fns import log_spectrum_results\n",
    "\n",
    "key = PRNGKey(seed=42)\n",
    "# N = 1000\n",
    "N = 10\n",
    "h = normal(key, shape=(N, ))\n",
    "H = cola.ops.Diagonal(h)\n",
    "# h = normal(key, shape=(N, N))\n",
    "# H = cola.ops.Dense(h @ h.T)\n",
    "H = cola.SelfAdjoint(H)\n",
    "\n",
    "results = []\n",
    "output_path = \"./logs/eigs.pkl\"\n",
    "log_spectrum_results(H, alg=cola.Eigh(), results=results, output_path=output_path)\n",
    "\n",
    "max_iters = 10\n",
    "alg = cola.Lanczos(max_iters=max_iters, tol=1e-3)\n",
    "log_spectrum_results(H, alg=alg, results=results, output_path=output_path)\n"
   ]
  }
 ],
 "metadata": {
  "kernelspec": {
   "display_name": "diffusion",
   "language": "python",
   "name": "diffusion"
  },
  "language_info": {
   "codemirror_mode": {
    "name": "ipython",
    "version": 3
   },
   "file_extension": ".py",
   "mimetype": "text/x-python",
   "name": "python",
   "nbconvert_exporter": "python",
   "pygments_lexer": "ipython3",
   "version": "3.10.13"
  }
 },
 "nbformat": 4,
 "nbformat_minor": 4
}
